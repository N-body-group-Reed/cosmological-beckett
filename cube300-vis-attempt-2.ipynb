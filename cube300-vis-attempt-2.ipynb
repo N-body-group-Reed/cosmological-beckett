{
 "cells": [
  {
   "cell_type": "code",
   "execution_count": 1,
   "metadata": {},
   "outputs": [],
   "source": [
    "#pynbody lessons 2019-10-17\n",
    "#\n",
    "# \"low-level facilities\" are a very good starting point AS OPPOSED to \"making pictures\"\n",
    "#\n",
    "# \"low-level facilities\" goes by another name \"data access walkthrough\"\n",
    "#\n",
    "# In pynbody's analysis section there is a COSMOLOGY subsection\n",
    "#\n",
    "# The halo section is good but hard to find.  Search for ROCKSTAR and an entire section on halo pops up.\n",
    "#\n",
    "# One entire section is labelled BASIC SNAPSHOT MANIPULATION. It has several subsections.\n",
    "#\n",
    "# \n",
    "#\n",
    "#\n",
    "#\n",
    "#\n",
    "#"
   ]
  },
  {
   "cell_type": "code",
   "execution_count": null,
   "metadata": {},
   "outputs": [],
   "source": []
  },
  {
   "cell_type": "code",
   "execution_count": 3,
   "metadata": {},
   "outputs": [],
   "source": [
    "import pynbody\n",
    "import numpy as np\n",
    "f = pynbody.load('cube300-b.red.000070')\n",
    "# single quotes only ... double quotes produce an error\n",
    "#\n",
    "# \"but the variable f is now your CALLING POINT for accessing data\"\n",
    "#\n",
    "# f is a SimSnap!"
   ]
  },
  {
   "cell_type": "code",
   "execution_count": 4,
   "metadata": {},
   "outputs": [
    {
     "data": {
      "text/plain": [
       "[<Family dm>]"
      ]
     },
     "execution_count": 4,
     "metadata": {},
     "output_type": "execute_result"
    }
   ],
   "source": [
    "f.families()"
   ]
  },
  {
   "cell_type": "code",
   "execution_count": 5,
   "metadata": {},
   "outputs": [
    {
     "data": {
      "text/plain": [
       "{'time': Unit(\"2.41e-06 kpc**3/2 G**-1/2 Msol**-1/2\")}"
      ]
     },
     "execution_count": 5,
     "metadata": {},
     "output_type": "execute_result"
    }
   ],
   "source": [
    "# f.families NEEDS a ()\n",
    "#\n",
    "# f.properties does NOT need a ()\n",
    "#\n",
    "f.properties"
   ]
  },
  {
   "cell_type": "code",
   "execution_count": 6,
   "metadata": {},
   "outputs": [
    {
     "data": {
      "text/plain": [
       "[]"
      ]
     },
     "execution_count": 6,
     "metadata": {},
     "output_type": "execute_result"
    }
   ],
   "source": [
    "# It would be illuminating to bring across and cube300.... .den file to SEE its properties!\n",
    "#\n",
    "# a SimSnap behaves as a python dictionary\n",
    "#\n",
    "f.keys()"
   ]
  },
  {
   "cell_type": "code",
   "execution_count": 7,
   "metadata": {},
   "outputs": [
    {
     "data": {
      "text/plain": [
       "['eps', 'pos', 'mass', 'phi', 'vel']"
      ]
     },
     "execution_count": 7,
     "metadata": {},
     "output_type": "execute_result"
    }
   ],
   "source": [
    "# the empty response is a python silliness ...\n",
    "#\n",
    "f.loadable_keys()"
   ]
  },
  {
   "cell_type": "code",
   "execution_count": 8,
   "metadata": {},
   "outputs": [
    {
     "data": {
      "text/plain": [
       "['mass', 'eps', 'pos', 'phi', 'vel']"
      ]
     },
     "execution_count": 8,
     "metadata": {},
     "output_type": "execute_result"
    }
   ],
   "source": [
    "f.dm.loadable_keys()"
   ]
  },
  {
   "cell_type": "code",
   "execution_count": 9,
   "metadata": {},
   "outputs": [
    {
     "data": {
      "text/plain": [
       "SimArray([0.16018903, 0.15888362, 0.15702352, ..., 0.16106914, 0.16089433,\n",
       "          0.16021673], '1.00e+10 G Msol kpc**-1')"
      ]
     },
     "execution_count": 9,
     "metadata": {},
     "output_type": "execute_result"
    }
   ],
   "source": [
    "f.dm['phi']"
   ]
  },
  {
   "cell_type": "code",
   "execution_count": 10,
   "metadata": {},
   "outputs": [
    {
     "data": {
      "text/plain": [
       "SimArray([0.0035, 0.0035, 0.0035, ..., 0.0035, 0.0035, 0.0035], 'kpc')"
      ]
     },
     "execution_count": 10,
     "metadata": {},
     "output_type": "execute_result"
    }
   ],
   "source": [
    "# we have, then, the gravitational potential of the cube300 data\n",
    "#\n",
    "f.dm['eps']"
   ]
  },
  {
   "cell_type": "code",
   "execution_count": 11,
   "metadata": {},
   "outputs": [
    {
     "name": "stderr",
     "output_type": "stream",
     "text": [
      "/anaconda3/lib/python3.7/site-packages/pynbody/simdict.py:92: RuntimeWarning: Assuming default value for property 'a'=1.00e+00\n",
      "  name, value), RuntimeWarning)\n",
      "/anaconda3/lib/python3.7/site-packages/pynbody/simdict.py:92: RuntimeWarning: Assuming default value for property 'h'=6.78e-01\n",
      "  name, value), RuntimeWarning)\n",
      "/anaconda3/lib/python3.7/site-packages/pynbody/simdict.py:92: RuntimeWarning: Assuming default value for property 'omegaM0'=3.09e-01\n",
      "  name, value), RuntimeWarning)\n",
      "/anaconda3/lib/python3.7/site-packages/pynbody/simdict.py:92: RuntimeWarning: Assuming default value for property 'omegaL0'=6.91e-01\n",
      "  name, value), RuntimeWarning)\n"
     ]
    },
    {
     "data": {
      "text/plain": [
       "13.795660358777317"
      ]
     },
     "execution_count": 11,
     "metadata": {},
     "output_type": "execute_result"
    }
   ],
   "source": [
    "pynbody.analysis.cosmology.age(f, z=None, unit='Gyr')"
   ]
  },
  {
   "cell_type": "code",
   "execution_count": 12,
   "metadata": {},
   "outputs": [
    {
     "data": {
      "text/plain": [
       "13.795660358777317"
      ]
     },
     "execution_count": 12,
     "metadata": {},
     "output_type": "execute_result"
    }
   ],
   "source": [
    "pynbody.analysis.cosmology.age(f, z=None, unit='Gyr')"
   ]
  },
  {
   "cell_type": "code",
   "execution_count": 13,
   "metadata": {},
   "outputs": [
    {
     "data": {
      "text/plain": [
       "0.053325002103439004"
      ]
     },
     "execution_count": 13,
     "metadata": {},
     "output_type": "execute_result"
    }
   ],
   "source": [
    "# All the pink stuff above happened because the parameter file was NOT in jupyter\n",
    "#\n",
    "pynbody.analysis.cosmology.rate_linear_growth(f, z=None, unit='h Gyr^-1')"
   ]
  },
  {
   "cell_type": "code",
   "execution_count": 14,
   "metadata": {},
   "outputs": [
    {
     "data": {
      "text/plain": [
       "1.27458512966304e-08"
      ]
     },
     "execution_count": 14,
     "metadata": {},
     "output_type": "execute_result"
    }
   ],
   "source": [
    "pynbody.analysis.cosmology.rho_crit(f, z=None, unit=None)"
   ]
  },
  {
   "cell_type": "code",
   "execution_count": 15,
   "metadata": {},
   "outputs": [
    {
     "data": {
      "text/plain": [
       "3.938468050658794e-09"
      ]
     },
     "execution_count": 15,
     "metadata": {},
     "output_type": "execute_result"
    }
   ],
   "source": [
    "pynbody.analysis.cosmology.rho_M(f, z=None, unit=None)"
   ]
  },
  {
   "cell_type": "code",
   "execution_count": 25,
   "metadata": {},
   "outputs": [
    {
     "name": "stderr",
     "output_type": "stream",
     "text": [
      "Exception in thread Thread-52:\n",
      "Traceback (most recent call last):\n",
      "  File \"/anaconda3/lib/python3.7/threading.py\", line 917, in _bootstrap_inner\n",
      "    self.run()\n",
      "  File \"/anaconda3/lib/python3.7/threading.py\", line 865, in run\n",
      "    self._target(*self._args, **self._kwargs)\n",
      "  File \"/anaconda3/lib/python3.7/site-packages/pynbody/sph/__init__.py\", line 440, in bridge\n",
      "    X = fn(*args[1:], **kwargs)\n",
      "  File \"/anaconda3/lib/python3.7/site-packages/pynbody/sph/__init__.py\", line 572, in _render_image\n",
      "    snap_proxy[arname] = snap[arname]\n",
      "  File \"/anaconda3/lib/python3.7/site-packages/pynbody/snapshot/__init__.py\", line 264, in __getitem__\n",
      "    return self._get_array_with_lazy_actions(i)\n",
      "  File \"/anaconda3/lib/python3.7/site-packages/pynbody/snapshot/__init__.py\", line 357, in _get_array_with_lazy_actions\n",
      "    self.__derive_if_required(name)\n",
      "  File \"/anaconda3/lib/python3.7/site-packages/pynbody/snapshot/__init__.py\", line 372, in __derive_if_required\n",
      "    self._derive_array(name)\n",
      "  File \"/anaconda3/lib/python3.7/site-packages/pynbody/snapshot/__init__.py\", line 1973, in _derive_array\n",
      "    self.base._derive_array(array_name, self._unifamily)\n",
      "  File \"/anaconda3/lib/python3.7/site-packages/pynbody/snapshot/__init__.py\", line 1502, in _derive_array\n",
      "    result = fn(self[fam])\n",
      "  File \"/anaconda3/lib/python3.7/site-packages/pynbody/sph/__init__.py\", line 137, in smooth\n",
      "    self.kdtree.populate('hsm', config['sph']['smooth-particles'])\n",
      "  File \"/anaconda3/lib/python3.7/site-packages/pynbody/sph/kdtree.py\", line 118, in populate\n",
      "    smx = kdmain.nn_start(self.kdtree, int(nn), self.boxsize)\n",
      "ValueError: Number of smoothing particles exceeds number of particles in tree\n",
      "Exception in thread Thread-53:\n",
      "Traceback (most recent call last):\n",
      "  File \"/anaconda3/lib/python3.7/threading.py\", line 917, in _bootstrap_inner\n",
      "    self.run()\n",
      "  File \"/anaconda3/lib/python3.7/threading.py\", line 865, in run\n",
      "    self._target(*self._args, **self._kwargs)\n",
      "  File \"/anaconda3/lib/python3.7/site-packages/pynbody/sph/__init__.py\", line 440, in bridge\n",
      "    X = fn(*args[1:], **kwargs)\n",
      "  File \"/anaconda3/lib/python3.7/site-packages/pynbody/sph/__init__.py\", line 572, in _render_image\n",
      "    snap_proxy[arname] = snap[arname]\n",
      "  File \"/anaconda3/lib/python3.7/site-packages/pynbody/snapshot/__init__.py\", line 264, in __getitem__\n",
      "    return self._get_array_with_lazy_actions(i)\n",
      "  File \"/anaconda3/lib/python3.7/site-packages/pynbody/snapshot/__init__.py\", line 357, in _get_array_with_lazy_actions\n",
      "    self.__derive_if_required(name)\n",
      "  File \"/anaconda3/lib/python3.7/site-packages/pynbody/snapshot/__init__.py\", line 372, in __derive_if_required\n",
      "    self._derive_array(name)\n",
      "  File \"/anaconda3/lib/python3.7/site-packages/pynbody/snapshot/__init__.py\", line 1973, in _derive_array\n",
      "    self.base._derive_array(array_name, self._unifamily)\n",
      "  File \"/anaconda3/lib/python3.7/site-packages/pynbody/snapshot/__init__.py\", line 1502, in _derive_array\n",
      "    result = fn(self[fam])\n",
      "  File \"/anaconda3/lib/python3.7/site-packages/pynbody/sph/__init__.py\", line 137, in smooth\n",
      "    self.kdtree.populate('hsm', config['sph']['smooth-particles'])\n",
      "  File \"/anaconda3/lib/python3.7/site-packages/pynbody/sph/kdtree.py\", line 118, in populate\n",
      "    smx = kdmain.nn_start(self.kdtree, int(nn), self.boxsize)\n",
      "ValueError: Number of smoothing particles exceeds number of particles in tree\n",
      "\n",
      "Exception in thread Thread-56:\n",
      "Traceback (most recent call last):\n",
      "  File \"/anaconda3/lib/python3.7/threading.py\", line 917, in _bootstrap_inner\n",
      "    self.run()\n",
      "  File \"/anaconda3/lib/python3.7/threading.py\", line 865, in run\n",
      "    self._target(*self._args, **self._kwargs)\n",
      "  File \"/anaconda3/lib/python3.7/site-packages/pynbody/sph/__init__.py\", line 440, in bridge\n",
      "    X = fn(*args[1:], **kwargs)\n",
      "  File \"/anaconda3/lib/python3.7/site-packages/pynbody/sph/__init__.py\", line 572, in _render_image\n",
      "    snap_proxy[arname] = snap[arname]\n",
      "  File \"/anaconda3/lib/python3.7/site-packages/pynbody/snapshot/__init__.py\", line 264, in __getitem__\n",
      "    return self._get_array_with_lazy_actions(i)\n",
      "  File \"/anaconda3/lib/python3.7/site-packages/pynbody/snapshot/__init__.py\", line 357, in _get_array_with_lazy_actions\n",
      "    self.__derive_if_required(name)\n",
      "  File \"/anaconda3/lib/python3.7/site-packages/pynbody/snapshot/__init__.py\", line 372, in __derive_if_required\n",
      "    self._derive_array(name)\n",
      "  File \"/anaconda3/lib/python3.7/site-packages/pynbody/snapshot/__init__.py\", line 1973, in _derive_array\n",
      "    self.base._derive_array(array_name, self._unifamily)\n",
      "  File \"/anaconda3/lib/python3.7/site-packages/pynbody/snapshot/__init__.py\", line 1502, in _derive_array\n",
      "    result = fn(self[fam])\n",
      "  File \"/anaconda3/lib/python3.7/site-packages/pynbody/sph/__init__.py\", line 137, in smooth\n",
      "    self.kdtree.populate('hsm', config['sph']['smooth-particles'])\n",
      "  File \"/anaconda3/lib/python3.7/site-packages/pynbody/sph/kdtree.py\", line 118, in populate\n",
      "    smx = kdmain.nn_start(self.kdtree, int(nn), self.boxsize)\n",
      "ValueError: Number of smoothing particles exceeds number of particles in tree\n",
      "Exception in thread Thread-54:\n",
      "Traceback (most recent call last):\n",
      "  File \"/anaconda3/lib/python3.7/threading.py\", line 917, in _bootstrap_inner\n",
      "    self.run()\n",
      "  File \"/anaconda3/lib/python3.7/threading.py\", line 865, in run\n",
      "    self._target(*self._args, **self._kwargs)\n",
      "  File \"/anaconda3/lib/python3.7/site-packages/pynbody/sph/__init__.py\", line 440, in bridge\n",
      "    X = fn(*args[1:], **kwargs)\n",
      "  File \"/anaconda3/lib/python3.7/site-packages/pynbody/sph/__init__.py\", line 572, in _render_image\n",
      "    snap_proxy[arname] = snap[arname]\n",
      "  File \"/anaconda3/lib/python3.7/site-packages/pynbody/snapshot/__init__.py\", line 264, in __getitem__\n",
      "    return self._get_array_with_lazy_actions(i)\n",
      "  File \"/anaconda3/lib/python3.7/site-packages/pynbody/snapshot/__init__.py\", line 357, in _get_array_with_lazy_actions\n",
      "    self.__derive_if_required(name)\n",
      "  File \"/anaconda3/lib/python3.7/site-packages/pynbody/snapshot/__init__.py\", line 372, in __derive_if_required\n",
      "    self._derive_array(name)\n",
      "  File \"/anaconda3/lib/python3.7/site-packages/pynbody/snapshot/__init__.py\", line 1973, in _derive_array\n",
      "    self.base._derive_array(array_name, self._unifamily)\n",
      "  File \"/anaconda3/lib/python3.7/site-packages/pynbody/snapshot/__init__.py\", line 1502, in _derive_array\n",
      "    result = fn(self[fam])\n",
      "  File \"/anaconda3/lib/python3.7/site-packages/pynbody/sph/__init__.py\", line 137, in smooth\n",
      "    self.kdtree.populate('hsm', config['sph']['smooth-particles'])\n",
      "  File \"/anaconda3/lib/python3.7/site-packages/pynbody/sph/kdtree.py\", line 118, in populate\n",
      "    smx = kdmain.nn_start(self.kdtree, int(nn), self.boxsize)\n",
      "ValueError: Number of smoothing particles exceeds number of particles in tree\n",
      "\n",
      "\n",
      "\n",
      "Exception in thread Thread-55:\n",
      "Traceback (most recent call last):\n",
      "  File \"/anaconda3/lib/python3.7/threading.py\", line 917, in _bootstrap_inner\n",
      "    self.run()\n",
      "  File \"/anaconda3/lib/python3.7/threading.py\", line 865, in run\n",
      "    self._target(*self._args, **self._kwargs)\n",
      "  File \"/anaconda3/lib/python3.7/site-packages/pynbody/sph/__init__.py\", line 440, in bridge\n",
      "    X = fn(*args[1:], **kwargs)\n",
      "  File \"/anaconda3/lib/python3.7/site-packages/pynbody/sph/__init__.py\", line 572, in _render_image\n",
      "    snap_proxy[arname] = snap[arname]\n",
      "  File \"/anaconda3/lib/python3.7/site-packages/pynbody/snapshot/__init__.py\", line 264, in __getitem__\n",
      "    return self._get_array_with_lazy_actions(i)\n",
      "  File \"/anaconda3/lib/python3.7/site-packages/pynbody/snapshot/__init__.py\", line 357, in _get_array_with_lazy_actions\n",
      "    self.__derive_if_required(name)\n",
      "  File \"/anaconda3/lib/python3.7/site-packages/pynbody/snapshot/__init__.py\", line 372, in __derive_if_required\n",
      "    self._derive_array(name)\n",
      "  File \"/anaconda3/lib/python3.7/site-packages/pynbody/snapshot/__init__.py\", line 1973, in _derive_array\n",
      "    self.base._derive_array(array_name, self._unifamily)\n",
      "  File \"/anaconda3/lib/python3.7/site-packages/pynbody/snapshot/__init__.py\", line 1502, in _derive_array\n",
      "    result = fn(self[fam])\n",
      "  File \"/anaconda3/lib/python3.7/site-packages/pynbody/sph/__init__.py\", line 137, in smooth\n",
      "    self.kdtree.populate('hsm', config['sph']['smooth-particles'])\n",
      "  File \"/anaconda3/lib/python3.7/site-packages/pynbody/sph/kdtree.py\", line 118, in populate\n",
      "    smx = kdmain.nn_start(self.kdtree, int(nn), self.boxsize)\n",
      "ValueError: Number of smoothing particles exceeds number of particles in tree\n",
      "\n",
      "Exception in thread Thread-57:\n",
      "Traceback (most recent call last):\n",
      "  File \"/anaconda3/lib/python3.7/threading.py\", line 917, in _bootstrap_inner\n",
      "    self.run()\n",
      "  File \"/anaconda3/lib/python3.7/threading.py\", line 865, in run\n",
      "    self._target(*self._args, **self._kwargs)\n",
      "  File \"/anaconda3/lib/python3.7/site-packages/pynbody/sph/__init__.py\", line 440, in bridge\n",
      "    X = fn(*args[1:], **kwargs)\n",
      "  File \"/anaconda3/lib/python3.7/site-packages/pynbody/sph/__init__.py\", line 572, in _render_image\n",
      "    snap_proxy[arname] = snap[arname]\n",
      "  File \"/anaconda3/lib/python3.7/site-packages/pynbody/snapshot/__init__.py\", line 264, in __getitem__\n",
      "    return self._get_array_with_lazy_actions(i)\n",
      "  File \"/anaconda3/lib/python3.7/site-packages/pynbody/snapshot/__init__.py\", line 357, in _get_array_with_lazy_actions\n",
      "    self.__derive_if_required(name)\n",
      "  File \"/anaconda3/lib/python3.7/site-packages/pynbody/snapshot/__init__.py\", line 372, in __derive_if_required\n",
      "    self._derive_array(name)\n",
      "  File \"/anaconda3/lib/python3.7/site-packages/pynbody/snapshot/__init__.py\", line 1973, in _derive_array\n",
      "    self.base._derive_array(array_name, self._unifamily)\n",
      "  File \"/anaconda3/lib/python3.7/site-packages/pynbody/snapshot/__init__.py\", line 1502, in _derive_array\n",
      "    result = fn(self[fam])\n",
      "  File \"/anaconda3/lib/python3.7/site-packages/pynbody/sph/__init__.py\", line 137, in smooth\n",
      "    self.kdtree.populate('hsm', config['sph']['smooth-particles'])\n",
      "  File \"/anaconda3/lib/python3.7/site-packages/pynbody/sph/kdtree.py\", line 118, in populate\n",
      "    smx = kdmain.nn_start(self.kdtree, int(nn), self.boxsize)\n",
      "ValueError: Number of smoothing particles exceeds number of particles in tree\n",
      "\n",
      "Exception in thread Thread-58:\n",
      "Traceback (most recent call last):\n",
      "  File \"/anaconda3/lib/python3.7/threading.py\", line 917, in _bootstrap_inner\n",
      "    self.run()\n",
      "  File \"/anaconda3/lib/python3.7/threading.py\", line 865, in run\n",
      "    self._target(*self._args, **self._kwargs)\n",
      "  File \"/anaconda3/lib/python3.7/site-packages/pynbody/sph/__init__.py\", line 440, in bridge\n",
      "    X = fn(*args[1:], **kwargs)\n",
      "  File \"/anaconda3/lib/python3.7/site-packages/pynbody/sph/__init__.py\", line 572, in _render_image\n",
      "    snap_proxy[arname] = snap[arname]\n",
      "  File \"/anaconda3/lib/python3.7/site-packages/pynbody/snapshot/__init__.py\", line 264, in __getitem__\n",
      "    return self._get_array_with_lazy_actions(i)\n",
      "  File \"/anaconda3/lib/python3.7/site-packages/pynbody/snapshot/__init__.py\", line 357, in _get_array_with_lazy_actions\n",
      "    self.__derive_if_required(name)\n",
      "  File \"/anaconda3/lib/python3.7/site-packages/pynbody/snapshot/__init__.py\", line 372, in __derive_if_required\n",
      "    self._derive_array(name)\n",
      "  File \"/anaconda3/lib/python3.7/site-packages/pynbody/snapshot/__init__.py\", line 1973, in _derive_array\n",
      "    self.base._derive_array(array_name, self._unifamily)\n",
      "  File \"/anaconda3/lib/python3.7/site-packages/pynbody/snapshot/__init__.py\", line 1502, in _derive_array\n",
      "    result = fn(self[fam])\n",
      "  File \"/anaconda3/lib/python3.7/site-packages/pynbody/sph/__init__.py\", line 137, in smooth\n",
      "    self.kdtree.populate('hsm', config['sph']['smooth-particles'])\n",
      "  File \"/anaconda3/lib/python3.7/site-packages/pynbody/sph/kdtree.py\", line 118, in populate\n",
      "    smx = kdmain.nn_start(self.kdtree, int(nn), self.boxsize)\n",
      "ValueError: Number of smoothing particles exceeds number of particles in tree\n",
      "\n",
      "Exception in thread Thread-59:\n",
      "Traceback (most recent call last):\n",
      "  File \"/anaconda3/lib/python3.7/threading.py\", line 917, in _bootstrap_inner\n",
      "    self.run()\n",
      "  File \"/anaconda3/lib/python3.7/threading.py\", line 865, in run\n",
      "    self._target(*self._args, **self._kwargs)\n",
      "  File \"/anaconda3/lib/python3.7/site-packages/pynbody/sph/__init__.py\", line 440, in bridge\n",
      "    X = fn(*args[1:], **kwargs)\n",
      "  File \"/anaconda3/lib/python3.7/site-packages/pynbody/sph/__init__.py\", line 572, in _render_image\n",
      "    snap_proxy[arname] = snap[arname]\n",
      "  File \"/anaconda3/lib/python3.7/site-packages/pynbody/snapshot/__init__.py\", line 264, in __getitem__\n",
      "    return self._get_array_with_lazy_actions(i)\n",
      "  File \"/anaconda3/lib/python3.7/site-packages/pynbody/snapshot/__init__.py\", line 357, in _get_array_with_lazy_actions\n",
      "    self.__derive_if_required(name)\n",
      "  File \"/anaconda3/lib/python3.7/site-packages/pynbody/snapshot/__init__.py\", line 372, in __derive_if_required\n",
      "    self._derive_array(name)\n",
      "  File \"/anaconda3/lib/python3.7/site-packages/pynbody/snapshot/__init__.py\", line 1973, in _derive_array\n",
      "    self.base._derive_array(array_name, self._unifamily)\n",
      "  File \"/anaconda3/lib/python3.7/site-packages/pynbody/snapshot/__init__.py\", line 1502, in _derive_array\n",
      "    result = fn(self[fam])\n",
      "  File \"/anaconda3/lib/python3.7/site-packages/pynbody/sph/__init__.py\", line 137, in smooth\n",
      "    self.kdtree.populate('hsm', config['sph']['smooth-particles'])\n",
      "  File \"/anaconda3/lib/python3.7/site-packages/pynbody/sph/kdtree.py\", line 118, in populate\n",
      "    smx = kdmain.nn_start(self.kdtree, int(nn), self.boxsize)\n",
      "ValueError: Number of smoothing particles exceeds number of particles in tree\n",
      "\n"
     ]
    },
    {
     "ename": "RuntimeError",
     "evalue": "There was a problem with the multi-threaded image render. Try running again with threaded=False to debug the underlying error.",
     "output_type": "error",
     "traceback": [
      "\u001b[0;31m------------------------------------------------------------\u001b[0m",
      "\u001b[0;31mRuntimeError\u001b[0m               Traceback (most recent call last)",
      "\u001b[0;32m<ipython-input-25-d7421127218d>\u001b[0m in \u001b[0;36m<module>\u001b[0;34m\u001b[0m\n\u001b[1;32m     16\u001b[0m \u001b[0;34m\u001b[0m\u001b[0m\n\u001b[1;32m     17\u001b[0m \u001b[0;31m#create a simple slice showing the gas temperature, with velocity vectors overlaid\u001b[0m\u001b[0;34m\u001b[0m\u001b[0;34m\u001b[0m\u001b[0;34m\u001b[0m\u001b[0m\n\u001b[0;32m---> 18\u001b[0;31m \u001b[0msph\u001b[0m\u001b[0;34m.\u001b[0m\u001b[0mvelocity_image\u001b[0m\u001b[0;34m(\u001b[0m\u001b[0ms\u001b[0m\u001b[0;34m.\u001b[0m\u001b[0mg\u001b[0m\u001b[0;34m,\u001b[0m \u001b[0mvector_color\u001b[0m\u001b[0;34m=\u001b[0m\u001b[0;34m\"cyan\"\u001b[0m\u001b[0;34m,\u001b[0m\u001b[0mwidth\u001b[0m\u001b[0;34m=\u001b[0m\u001b[0;36m50\u001b[0m\u001b[0;34m,\u001b[0m\u001b[0mcmap\u001b[0m\u001b[0;34m=\u001b[0m\u001b[0;34m\"YlOrRd\"\u001b[0m\u001b[0;34m,\u001b[0m \u001b[0mthreaded\u001b[0m\u001b[0;34m=\u001b[0m\u001b[0;32mFalse\u001b[0m\u001b[0;34m)\u001b[0m\u001b[0;34m\u001b[0m\u001b[0;34m\u001b[0m\u001b[0m\n\u001b[0m\u001b[1;32m     19\u001b[0m \u001b[0;34m\u001b[0m\u001b[0m\n\u001b[1;32m     20\u001b[0m \u001b[0;31m#you can also make a stream visualization instead of a quiver plot\u001b[0m\u001b[0;34m\u001b[0m\u001b[0;34m\u001b[0m\u001b[0;34m\u001b[0m\u001b[0m\n",
      "\u001b[0;32m/anaconda3/lib/python3.7/site-packages/pynbody/plot/sph.py\u001b[0m in \u001b[0;36mvelocity_image\u001b[0;34m(sim, width, vector_color, edgecolor, quiverkey_bg_color, vector_resolution, scale, mode, key_x, key_y, key_color, key_length, quiverkey, density, vector_qty, **kwargs)\u001b[0m\n\u001b[1;32m    102\u001b[0m \u001b[0;34m\u001b[0m\u001b[0m\n\u001b[1;32m    103\u001b[0m     vx = image(sim, qty=vx_name, width=width, log=False,\n\u001b[0;32m--> 104\u001b[0;31m                resolution=vector_resolution, noplot=True,av_z=av_z)\n\u001b[0m\u001b[1;32m    105\u001b[0m     vy = image(sim, qty=vy_name, width=width, log=False,\n\u001b[1;32m    106\u001b[0m                resolution=vector_resolution, noplot=True,av_z=av_z)\n",
      "\u001b[0;32m/anaconda3/lib/python3.7/site-packages/pynbody/plot/sph.py\u001b[0m in \u001b[0;36mimage\u001b[0;34m(sim, qty, width, resolution, units, log, vmin, vmax, av_z, filename, z_camera, clear, cmap, title, qtytitle, show_cbar, subplot, noplot, ret_im, fill_nan, fill_val, linthresh, **kwargs)\u001b[0m\n\u001b[1;32m    421\u001b[0m     \u001b[0;32melse\u001b[0m\u001b[0;34m:\u001b[0m\u001b[0;34m\u001b[0m\u001b[0;34m\u001b[0m\u001b[0m\n\u001b[1;32m    422\u001b[0m         im = sph.render_image(sim, qty, width / 2, resolution, out_units=units,\n\u001b[0;32m--> 423\u001b[0;31m                               kernel=kernel,  z_camera=z_camera, **kwargs)\n\u001b[0m\u001b[1;32m    424\u001b[0m \u001b[0;34m\u001b[0m\u001b[0m\n\u001b[1;32m    425\u001b[0m     \u001b[0;32mif\u001b[0m \u001b[0mfill_nan\u001b[0m\u001b[0;34m:\u001b[0m\u001b[0;34m\u001b[0m\u001b[0;34m\u001b[0m\u001b[0m\n",
      "\u001b[0;32m/anaconda3/lib/python3.7/site-packages/pynbody/sph/__init__.py\u001b[0m in \u001b[0;36mrender_image\u001b[0;34m(snap, qty, x2, nx, y2, ny, x1, y1, z_plane, out_units, xy_units, kernel, z_camera, smooth, smooth_in_pixels, force_quiet, approximate_fast, threaded, denoise)\u001b[0m\n\u001b[1;32m    531\u001b[0m                                     \u001b[0mout_units\u001b[0m\u001b[0;34m,\u001b[0m \u001b[0mxy_units\u001b[0m\u001b[0;34m,\u001b[0m \u001b[0mkernel\u001b[0m\u001b[0;34m,\u001b[0m \u001b[0mz_camera\u001b[0m\u001b[0;34m,\u001b[0m \u001b[0msmooth\u001b[0m\u001b[0;34m,\u001b[0m\u001b[0;34m\u001b[0m\u001b[0;34m\u001b[0m\u001b[0m\n\u001b[1;32m    532\u001b[0m                                     \u001b[0msmooth_in_pixels\u001b[0m\u001b[0;34m,\u001b[0m \u001b[0;32mTrue\u001b[0m\u001b[0;34m,\u001b[0m\u001b[0;34m\u001b[0m\u001b[0;34m\u001b[0m\u001b[0m\n\u001b[0;32m--> 533\u001b[0;31m                                     num_threads=threaded)\n\u001b[0m\u001b[1;32m    534\u001b[0m     \u001b[0;32melse\u001b[0m\u001b[0;34m:\u001b[0m\u001b[0;34m\u001b[0m\u001b[0;34m\u001b[0m\u001b[0m\n\u001b[1;32m    535\u001b[0m         im = base_renderer(snap, qty, x2, nx, y2, ny, x1, y1, z_plane,\n",
      "\u001b[0;32m/anaconda3/lib/python3.7/site-packages/pynbody/sph/__init__.py\u001b[0m in \u001b[0;36m_threaded_render_image\u001b[0;34m(fn, s, *args, **kwargs)\u001b[0m\n\u001b[1;32m    404\u001b[0m     \u001b[0;31m# Each output is a 1-element list with a numpy array. Sum them.\u001b[0m\u001b[0;34m\u001b[0m\u001b[0;34m\u001b[0m\u001b[0;34m\u001b[0m\u001b[0m\n\u001b[1;32m    405\u001b[0m     \u001b[0;32mif\u001b[0m \u001b[0many\u001b[0m\u001b[0;34m(\u001b[0m\u001b[0;34m[\u001b[0m\u001b[0mlen\u001b[0m\u001b[0;34m(\u001b[0m\u001b[0mo\u001b[0m\u001b[0;34m)\u001b[0m\u001b[0;34m==\u001b[0m\u001b[0;36m0\u001b[0m \u001b[0;32mfor\u001b[0m \u001b[0mo\u001b[0m \u001b[0;32min\u001b[0m \u001b[0moutputs\u001b[0m\u001b[0;34m]\u001b[0m\u001b[0;34m)\u001b[0m\u001b[0;34m:\u001b[0m\u001b[0;34m\u001b[0m\u001b[0;34m\u001b[0m\u001b[0m\n\u001b[0;32m--> 406\u001b[0;31m         \u001b[0;32mraise\u001b[0m \u001b[0mRuntimeError\u001b[0m\u001b[0;34m(\u001b[0m\u001b[0;34m\"There was a problem with the multi-threaded image render. Try running again with threaded=False to debug the underlying error.\"\u001b[0m\u001b[0;34m)\u001b[0m\u001b[0;34m\u001b[0m\u001b[0;34m\u001b[0m\u001b[0m\n\u001b[0m\u001b[1;32m    407\u001b[0m     \u001b[0;32mreturn\u001b[0m \u001b[0msum\u001b[0m\u001b[0;34m(\u001b[0m\u001b[0;34m[\u001b[0m\u001b[0mo\u001b[0m\u001b[0;34m[\u001b[0m\u001b[0;36m0\u001b[0m\u001b[0;34m]\u001b[0m \u001b[0;32mfor\u001b[0m \u001b[0mo\u001b[0m \u001b[0;32min\u001b[0m \u001b[0moutputs\u001b[0m\u001b[0;34m]\u001b[0m\u001b[0;34m)\u001b[0m\u001b[0;34m\u001b[0m\u001b[0;34m\u001b[0m\u001b[0m\n\u001b[1;32m    408\u001b[0m \u001b[0;34m\u001b[0m\u001b[0m\n",
      "\u001b[0;31mRuntimeError\u001b[0m: There was a problem with the multi-threaded image render. Try running again with threaded=False to debug the underlying error."
     ]
    }
   ],
   "source": [
    "import pynbody\n",
    "import pynbody.plot.sph as sph\n",
    "import matplotlib.pylab as plt\n",
    "\n",
    "# load the snapshot and set to physical units\n",
    "s = pynbody.load('cube300-b.red.000070')\n",
    "s.physical_units()\n",
    "\n",
    "\n",
    "# center on the largest halo and align the disk\n",
    "#not sure I need this. turning it on did NOT help\n",
    "#pynbody.analysis.angmom.sideon(s)\n",
    "\n",
    "# create the subplots\n",
    "#f, axs = plt.subplots(1,2,figsize=(14,6))\n",
    "\n",
    "#create a simple slice showing the gas temperature, with velocity vectors overlaid\n",
    "sph.velocity_image(s.g, vector_color=\"cyan\",width=50,cmap=\"YlOrRd\", threaded=False)\n",
    "\n",
    "#you can also make a stream visualization instead of a quiver plot\n",
    "#pynbody.analysis.angmom.faceon(h[1])\n",
    "#s['pos'].convert_units('Mpc')\n",
    "#sph.velocity_image(s.g, width='3 Mpc', cmap = \"Greys_r\", mode='stream', threaded=false)"
   ]
  },
  {
   "cell_type": "code",
   "execution_count": 26,
   "metadata": {},
   "outputs": [
    {
     "ename": "AttributeError",
     "evalue": "module 'pynbody.plot' has no attribute 'dm'",
     "output_type": "error",
     "traceback": [
      "\u001b[0;31m------------------------------------------------------------\u001b[0m",
      "\u001b[0;31mAttributeError\u001b[0m             Traceback (most recent call last)",
      "\u001b[0;32m<ipython-input-26-fa5fe72092af>\u001b[0m in \u001b[0;36m<module>\u001b[0;34m\u001b[0m\n\u001b[1;32m     13\u001b[0m \u001b[0;34m\u001b[0m\u001b[0m\n\u001b[1;32m     14\u001b[0m \u001b[0;31m#create an image using the default bands (i, v, u)\u001b[0m\u001b[0;34m\u001b[0m\u001b[0;34m\u001b[0m\u001b[0;34m\u001b[0m\u001b[0m\n\u001b[0;32m---> 15\u001b[0;31m \u001b[0mpynbody\u001b[0m\u001b[0;34m.\u001b[0m\u001b[0mplot\u001b[0m\u001b[0;34m.\u001b[0m\u001b[0mdm\u001b[0m\u001b[0;34m.\u001b[0m\u001b[0mrender\u001b[0m\u001b[0;34m(\u001b[0m\u001b[0ms\u001b[0m\u001b[0;34m,\u001b[0m\u001b[0mwidth\u001b[0m\u001b[0;34m=\u001b[0m\u001b[0;34m'20 kpc'\u001b[0m\u001b[0;34m)\u001b[0m\u001b[0;34m\u001b[0m\u001b[0;34m\u001b[0m\u001b[0m\n\u001b[0m",
      "\u001b[0;31mAttributeError\u001b[0m: module 'pynbody.plot' has no attribute 'dm'"
     ]
    }
   ],
   "source": [
    "import pynbody\n",
    "import matplotlib.pylab as plt\n",
    "\n",
    "# load the snapshot and set to physical units\n",
    "s = pynbody.load('cube300-b.red.000070')\n",
    "s.physical_units()\n",
    "\n",
    "# load the halos\n",
    "#h = s.halos()\n",
    "\n",
    "# center on the largest halo and align the disk\n",
    "#pynbody.analysis.angmom.sideon(h[1])\n",
    "\n",
    "#create an image using the default bands (i, v, u)\n",
    "pynbody.plot.dm.render(s,width='20 kpc')"
   ]
  },
  {
   "cell_type": "code",
   "execution_count": 27,
   "metadata": {},
   "outputs": [
    {
     "data": {
      "text/plain": [
       "SimArray([0.16018903, 0.15888362, 0.15702352, ..., 0.16106914, 0.16089433,\n",
       "          0.16021673], '1.00e+10 G Msol kpc**-1')"
      ]
     },
     "execution_count": 27,
     "metadata": {},
     "output_type": "execute_result"
    }
   ],
   "source": [
    "f.dm['phi']"
   ]
  },
  {
   "cell_type": "code",
   "execution_count": 28,
   "metadata": {},
   "outputs": [],
   "source": [
    "plt.show()"
   ]
  },
  {
   "cell_type": "code",
   "execution_count": 29,
   "metadata": {},
   "outputs": [
    {
     "data": {
      "text/plain": [
       "[]"
      ]
     },
     "execution_count": 29,
     "metadata": {},
     "output_type": "execute_result"
    },
    {
     "data": {
      "image/png": "[encoded data removed]",
      "text/plain": [
       "<Figure size 432x288 with 1 Axes>"
      ]
     },
     "metadata": {
      "needs_background": "light"
     },
     "output_type": "display_data"
    }
   ],
   "source": [
    "plt.plot()"
   ]
  },
  {
   "cell_type": "code",
   "execution_count": null,
   "metadata": {},
   "outputs": [],
   "source": [
    ">>> radius = \"1 kpc\" # or might be a float if you already know your units\n",
    ">>> centre = (0,0,0) # Take the origin for now\n",
    ">>> sphere = sub[pynbody.filt.Sphere(radius, centre)]"
   ]
  },
  {
   "cell_type": "code",
   "execution_count": null,
   "metadata": {},
   "outputs": [],
   "source": [
    "In [49]: from pynbody.filt import *\n",
    "\n",
    "In [50]: f_sphere = f[Sphere('10 kpc')]"
   ]
  },
  {
   "cell_type": "code",
   "execution_count": null,
   "metadata": {},
   "outputs": [],
   "source": [
    "import pynbody\n",
    "import numpy as np\n",
    "f = pynbody.load('cube300-b.red.000070')\n",
    "# single quotes only ... double quotes produce an error\n",
    "#\n",
    "# \"but the variable f is now your CALLING POINT for accessing data\"\n",
    "#\n",
    "# f is a SimSnap!\n",
    "from pynbody.filt import *"
   ]
  },
  {
   "cell_type": "code",
   "execution_count": null,
   "metadata": {},
   "outputs": [],
   "source": [
    "f_sphere = f[Sphere('10 kpc')]"
   ]
  },
  {
   "cell_type": "code",
   "execution_count": null,
   "metadata": {},
   "outputs": [],
   "source": [
    "f_sphere.dm['pos']"
   ]
  },
  {
   "cell_type": "code",
   "execution_count": null,
   "metadata": {},
   "outputs": [],
   "source": [
    "len(f_sphere)"
   ]
  },
  {
   "cell_type": "code",
   "execution_count": null,
   "metadata": {},
   "outputs": [],
   "source": [
    "index = numpy.where(f[\"group\"]==group_id)"
   ]
  },
  {
   "cell_type": "code",
   "execution_count": null,
   "metadata": {},
   "outputs": [],
   "source": [
    "(sim[\"mass\"][index]*sim[\"pos\"][index]).mean(axis=0)"
   ]
  },
  {
   "cell_type": "code",
   "execution_count": null,
   "metadata": {},
   "outputs": [],
   "source": [
    "(sim[\"mass\"]*f[\"pos\"]).mean(axis=0)"
   ]
  },
  {
   "cell_type": "code",
   "execution_count": null,
   "metadata": {},
   "outputs": [],
   "source": [
    "pynbody.analysis.halo.center(f, mode = 'ssc', cen_size = '20 kpc'):"
   ]
  },
  {
   "cell_type": "code",
   "execution_count": null,
   "metadata": {},
   "outputs": [],
   "source": [
    "im = pynbody.plot.image(s.d[pynbody.filt.Sphere('12 Mpc a h**-1')], width='12 Mpc a h**-1', units = 'Msol kpc^-2', cmap='magma')"
   ]
  },
  {
   "cell_type": "code",
   "execution_count": 1,
   "metadata": {},
   "outputs": [
    {
     "ename": "SyntaxError",
     "evalue": "invalid syntax (<ipython-input-1-3494414b9bbf>, line 1)",
     "output_type": "error",
     "traceback": [
      "\u001b[0;36m  File \u001b[0;32m\"<ipython-input-1-3494414b9bbf>\"\u001b[0;36m, line \u001b[0;32m1\u001b[0m\n\u001b[0;31m    pynbody.analysis.halo.center(f, mode = 'ssc', cen_size = '20 kpc'):\u001b[0m\n\u001b[0m                                                                       ^\u001b[0m\n\u001b[0;31mSyntaxError\u001b[0m\u001b[0;31m:\u001b[0m invalid syntax\n"
     ]
    }
   ],
   "source": [
    "pynbody.analysis.halo.center(f, mode = 'ssc', cen_size = '20 kpc'):\n",
    "    im = pynbody.plot.image(f.d[pynbody.filt.Sphere('12 Mpc a h**-1')], width='12 Mpc a h**-1', units = 'Msol kpc^-2', cmap='magma')"
   ]
  },
  {
   "cell_type": "code",
   "execution_count": 2,
   "metadata": {},
   "outputs": [
    {
     "name": "stderr",
     "output_type": "stream",
     "text": [
      "/anaconda3/lib/python3.7/site-packages/pynbody/snapshot/tipsy.py:1569: RuntimeWarning: Paramfile suggests time is cosmological, but header values are not sensible in this context.\n",
      "  \"Paramfile suggests time is cosmological, but header values are not sensible in this context.\", RuntimeWarning)\n",
      "/anaconda3/lib/python3.7/site-packages/pynbody/snapshot/tipsy.py:130: RuntimeWarning: No readable param file in the run directory or parent directory: using defaults.\n",
      "  \"No readable param file in the run directory or parent directory: using defaults.\", RuntimeWarning)\n"
     ]
    }
   ],
   "source": [
    "import pynbody\n",
    "import numpy as np\n",
    "f = pynbody.load('cube300-b.red.000070')"
   ]
  },
  {
   "cell_type": "code",
   "execution_count": 4,
   "metadata": {},
   "outputs": [
    {
     "ename": "ValueError",
     "evalue": "Failed to make a sensible logarithmic image. This probably means there are no particles in the view.",
     "output_type": "error",
     "traceback": [
      "\u001b[0;31m------------------------------------------------------------\u001b[0m",
      "\u001b[0;31mValueError\u001b[0m                 Traceback (most recent call last)",
      "\u001b[0;32m/anaconda3/lib/python3.7/site-packages/pynbody/plot/sph.py\u001b[0m in \u001b[0;36mimage\u001b[0;34m(sim, qty, width, resolution, units, log, vmin, vmax, av_z, filename, z_camera, clear, cmap, title, qtytitle, show_cbar, subplot, noplot, ret_im, fill_nan, fill_val, linthresh, **kwargs)\u001b[0m\n\u001b[1;32m    432\u001b[0m             \u001b[0;32mtry\u001b[0m\u001b[0;34m:\u001b[0m\u001b[0;34m\u001b[0m\u001b[0;34m\u001b[0m\u001b[0m\n\u001b[0;32m--> 433\u001b[0;31m                 \u001b[0mim\u001b[0m\u001b[0;34m[\u001b[0m\u001b[0mnp\u001b[0m\u001b[0;34m.\u001b[0m\u001b[0mwhere\u001b[0m\u001b[0;34m(\u001b[0m\u001b[0mim\u001b[0m \u001b[0;34m==\u001b[0m \u001b[0;36m0\u001b[0m\u001b[0;34m)\u001b[0m\u001b[0;34m]\u001b[0m \u001b[0;34m=\u001b[0m \u001b[0mabs\u001b[0m\u001b[0;34m(\u001b[0m\u001b[0mim\u001b[0m\u001b[0;34m[\u001b[0m\u001b[0mnp\u001b[0m\u001b[0;34m.\u001b[0m\u001b[0mwhere\u001b[0m\u001b[0;34m(\u001b[0m\u001b[0mabs\u001b[0m\u001b[0;34m(\u001b[0m\u001b[0mim\u001b[0m \u001b[0;34m!=\u001b[0m \u001b[0;36m0\u001b[0m\u001b[0;34m)\u001b[0m\u001b[0;34m)\u001b[0m\u001b[0;34m]\u001b[0m\u001b[0;34m)\u001b[0m\u001b[0;34m.\u001b[0m\u001b[0mmin\u001b[0m\u001b[0;34m(\u001b[0m\u001b[0;34m)\u001b[0m\u001b[0;34m\u001b[0m\u001b[0;34m\u001b[0m\u001b[0m\n\u001b[0m\u001b[1;32m    434\u001b[0m             \u001b[0;32mexcept\u001b[0m \u001b[0mValueError\u001b[0m\u001b[0;34m:\u001b[0m\u001b[0;34m\u001b[0m\u001b[0;34m\u001b[0m\u001b[0m\n",
      "\u001b[0;32m/anaconda3/lib/python3.7/site-packages/pynbody/array.py\u001b[0m in \u001b[0;36mmin\u001b[0;34m(self, *args, **kwargs)\u001b[0m\n\u001b[1;32m    550\u001b[0m     \u001b[0;32mdef\u001b[0m \u001b[0mmin\u001b[0m\u001b[0;34m(\u001b[0m\u001b[0mself\u001b[0m\u001b[0;34m,\u001b[0m \u001b[0;34m*\u001b[0m\u001b[0margs\u001b[0m\u001b[0;34m,\u001b[0m \u001b[0;34m**\u001b[0m\u001b[0mkwargs\u001b[0m\u001b[0;34m)\u001b[0m\u001b[0;34m:\u001b[0m\u001b[0;34m\u001b[0m\u001b[0;34m\u001b[0m\u001b[0m\n\u001b[0;32m--> 551\u001b[0;31m         \u001b[0mx\u001b[0m \u001b[0;34m=\u001b[0m \u001b[0mnp\u001b[0m\u001b[0;34m.\u001b[0m\u001b[0mndarray\u001b[0m\u001b[0;34m.\u001b[0m\u001b[0mmin\u001b[0m\u001b[0;34m(\u001b[0m\u001b[0mself\u001b[0m\u001b[0;34m,\u001b[0m \u001b[0;34m*\u001b[0m\u001b[0margs\u001b[0m\u001b[0;34m,\u001b[0m \u001b[0;34m**\u001b[0m\u001b[0mkwargs\u001b[0m\u001b[0;34m)\u001b[0m\u001b[0;34m\u001b[0m\u001b[0;34m\u001b[0m\u001b[0m\n\u001b[0m\u001b[1;32m    552\u001b[0m         \u001b[0;32mif\u001b[0m \u001b[0mhasattr\u001b[0m\u001b[0;34m(\u001b[0m\u001b[0mx\u001b[0m\u001b[0;34m,\u001b[0m \u001b[0;34m'units'\u001b[0m\u001b[0;34m)\u001b[0m \u001b[0;32mand\u001b[0m \u001b[0mself\u001b[0m\u001b[0;34m.\u001b[0m\u001b[0munits\u001b[0m \u001b[0;32mis\u001b[0m \u001b[0;32mnot\u001b[0m \u001b[0;32mNone\u001b[0m\u001b[0;34m:\u001b[0m\u001b[0;34m\u001b[0m\u001b[0;34m\u001b[0m\u001b[0m\n",
      "\u001b[0;32m/anaconda3/lib/python3.7/site-packages/numpy/core/_methods.py\u001b[0m in \u001b[0;36m_amin\u001b[0;34m(a, axis, out, keepdims, initial)\u001b[0m\n\u001b[1;32m     31\u001b[0m           initial=_NoValue):\n\u001b[0;32m---> 32\u001b[0;31m     \u001b[0;32mreturn\u001b[0m \u001b[0mumr_minimum\u001b[0m\u001b[0;34m(\u001b[0m\u001b[0ma\u001b[0m\u001b[0;34m,\u001b[0m \u001b[0maxis\u001b[0m\u001b[0;34m,\u001b[0m \u001b[0;32mNone\u001b[0m\u001b[0;34m,\u001b[0m \u001b[0mout\u001b[0m\u001b[0;34m,\u001b[0m \u001b[0mkeepdims\u001b[0m\u001b[0;34m,\u001b[0m \u001b[0minitial\u001b[0m\u001b[0;34m)\u001b[0m\u001b[0;34m\u001b[0m\u001b[0;34m\u001b[0m\u001b[0m\n\u001b[0m\u001b[1;32m     33\u001b[0m \u001b[0;34m\u001b[0m\u001b[0m\n",
      "\u001b[0;31mValueError\u001b[0m: zero-size array to reduction operation minimum which has no identity",
      "\nDuring handling of the above exception, another exception occurred:\n",
      "\u001b[0;31mValueError\u001b[0m                 Traceback (most recent call last)",
      "\u001b[0;32m<ipython-input-4-ce79b2b475e2>\u001b[0m in \u001b[0;36m<module>\u001b[0;34m\u001b[0m\n\u001b[1;32m      1\u001b[0m \u001b[0mpynbody\u001b[0m\u001b[0;34m.\u001b[0m\u001b[0manalysis\u001b[0m\u001b[0;34m.\u001b[0m\u001b[0mhalo\u001b[0m\u001b[0;34m.\u001b[0m\u001b[0mcenter\u001b[0m\u001b[0;34m(\u001b[0m\u001b[0mf\u001b[0m\u001b[0;34m,\u001b[0m \u001b[0mmode\u001b[0m \u001b[0;34m=\u001b[0m \u001b[0;34m'ssc'\u001b[0m\u001b[0;34m,\u001b[0m \u001b[0mcen_size\u001b[0m \u001b[0;34m=\u001b[0m \u001b[0;34m'20 kpc'\u001b[0m\u001b[0;34m)\u001b[0m\u001b[0;34m\u001b[0m\u001b[0;34m\u001b[0m\u001b[0m\n\u001b[0;32m----> 2\u001b[0;31m \u001b[0mim\u001b[0m \u001b[0;34m=\u001b[0m \u001b[0mpynbody\u001b[0m\u001b[0;34m.\u001b[0m\u001b[0mplot\u001b[0m\u001b[0;34m.\u001b[0m\u001b[0mimage\u001b[0m\u001b[0;34m(\u001b[0m\u001b[0mf\u001b[0m\u001b[0;34m.\u001b[0m\u001b[0md\u001b[0m\u001b[0;34m[\u001b[0m\u001b[0mpynbody\u001b[0m\u001b[0;34m.\u001b[0m\u001b[0mfilt\u001b[0m\u001b[0;34m.\u001b[0m\u001b[0mSphere\u001b[0m\u001b[0;34m(\u001b[0m\u001b[0;34m'12 Mpc a h**-1'\u001b[0m\u001b[0;34m)\u001b[0m\u001b[0;34m]\u001b[0m\u001b[0;34m,\u001b[0m \u001b[0mwidth\u001b[0m\u001b[0;34m=\u001b[0m\u001b[0;34m'12 Mpc a h**-1'\u001b[0m\u001b[0;34m,\u001b[0m \u001b[0munits\u001b[0m \u001b[0;34m=\u001b[0m \u001b[0;34m'Msol kpc^-2'\u001b[0m\u001b[0;34m,\u001b[0m \u001b[0mcmap\u001b[0m\u001b[0;34m=\u001b[0m\u001b[0;34m'magma'\u001b[0m\u001b[0;34m)\u001b[0m\u001b[0;34m\u001b[0m\u001b[0;34m\u001b[0m\u001b[0m\n\u001b[0m",
      "\u001b[0;32m/anaconda3/lib/python3.7/site-packages/pynbody/plot/sph.py\u001b[0m in \u001b[0;36mimage\u001b[0;34m(sim, qty, width, resolution, units, log, vmin, vmax, av_z, filename, z_camera, clear, cmap, title, qtytitle, show_cbar, subplot, noplot, ret_im, fill_nan, fill_val, linthresh, **kwargs)\u001b[0m\n\u001b[1;32m    433\u001b[0m                 \u001b[0mim\u001b[0m\u001b[0;34m[\u001b[0m\u001b[0mnp\u001b[0m\u001b[0;34m.\u001b[0m\u001b[0mwhere\u001b[0m\u001b[0;34m(\u001b[0m\u001b[0mim\u001b[0m \u001b[0;34m==\u001b[0m \u001b[0;36m0\u001b[0m\u001b[0;34m)\u001b[0m\u001b[0;34m]\u001b[0m \u001b[0;34m=\u001b[0m \u001b[0mabs\u001b[0m\u001b[0;34m(\u001b[0m\u001b[0mim\u001b[0m\u001b[0;34m[\u001b[0m\u001b[0mnp\u001b[0m\u001b[0;34m.\u001b[0m\u001b[0mwhere\u001b[0m\u001b[0;34m(\u001b[0m\u001b[0mabs\u001b[0m\u001b[0;34m(\u001b[0m\u001b[0mim\u001b[0m \u001b[0;34m!=\u001b[0m \u001b[0;36m0\u001b[0m\u001b[0;34m)\u001b[0m\u001b[0;34m)\u001b[0m\u001b[0;34m]\u001b[0m\u001b[0;34m)\u001b[0m\u001b[0;34m.\u001b[0m\u001b[0mmin\u001b[0m\u001b[0;34m(\u001b[0m\u001b[0;34m)\u001b[0m\u001b[0;34m\u001b[0m\u001b[0;34m\u001b[0m\u001b[0m\n\u001b[1;32m    434\u001b[0m             \u001b[0;32mexcept\u001b[0m \u001b[0mValueError\u001b[0m\u001b[0;34m:\u001b[0m\u001b[0;34m\u001b[0m\u001b[0;34m\u001b[0m\u001b[0m\n\u001b[0;32m--> 435\u001b[0;31m                 \u001b[0;32mraise\u001b[0m \u001b[0mValueError\u001b[0m\u001b[0;34m(\u001b[0m\u001b[0;34m\"Failed to make a sensible logarithmic image. This probably means there are no particles in the view.\"\u001b[0m\u001b[0;34m)\u001b[0m\u001b[0;34m\u001b[0m\u001b[0;34m\u001b[0m\u001b[0m\n\u001b[0m\u001b[1;32m    436\u001b[0m \u001b[0;34m\u001b[0m\u001b[0m\n\u001b[1;32m    437\u001b[0m             \u001b[0;31m# check if there are negative values -- if so, use the symmetric\u001b[0m\u001b[0;34m\u001b[0m\u001b[0;34m\u001b[0m\u001b[0;34m\u001b[0m\u001b[0m\n",
      "\u001b[0;31mValueError\u001b[0m: Failed to make a sensible logarithmic image. This probably means there are no particles in the view."
     ]
    }
   ],
   "source": [
    "pynbody.analysis.halo.center(f, mode = 'ssc', cen_size = '20 kpc')\n",
    "im = pynbody.plot.image(f.d[pynbody.filt.Sphere('12 Mpc a h**-1')], width='12 Mpc a h**-1', units = 'Msol kpc^-2', cmap='magma')"
   ]
  },
  {
   "cell_type": "code",
   "execution_count": null,
   "metadata": {},
   "outputs": [],
   "source": []
  }
 ],
 "metadata": {
  "kernelspec": {
   "display_name": "Python 3",
   "language": "python",
   "name": "python3"
  },
  "language_info": {
   "codemirror_mode": {
    "name": "ipython",
    "version": 3
   },
   "file_extension": ".py",
   "mimetype": "text/x-python",
   "name": "python",
   "nbconvert_exporter": "python",
   "pygments_lexer": "ipython3",
   "version": "3.7.3"
  }
 },
 "nbformat": 4,
 "nbformat_minor": 2
}
