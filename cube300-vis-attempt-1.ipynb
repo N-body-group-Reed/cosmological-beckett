{
 "cells": [
  {
   "cell_type": "code",
   "execution_count": 1,
   "metadata": {},
   "outputs": [
    {
     "ename": "OSError",
     "evalue": "File 'cube300-b.red.000070': format not understood or does not exist",
     "output_type": "error",
     "traceback": [
      "\u001b[0;31m------------------------------------------------------------\u001b[0m",
      "\u001b[0;31mOSError\u001b[0m                    Traceback (most recent call last)",
      "\u001b[0;32m<ipython-input-1-ea33db04ba0f>\u001b[0m in \u001b[0;36m<module>\u001b[0;34m\u001b[0m\n\u001b[1;32m      2\u001b[0m \u001b[0;32mimport\u001b[0m \u001b[0mpynbody\u001b[0m\u001b[0;34m.\u001b[0m\u001b[0mplot\u001b[0m\u001b[0;34m.\u001b[0m\u001b[0msph\u001b[0m \u001b[0;32mas\u001b[0m \u001b[0msph\u001b[0m\u001b[0;34m\u001b[0m\u001b[0;34m\u001b[0m\u001b[0m\n\u001b[1;32m      3\u001b[0m \u001b[0;32mimport\u001b[0m \u001b[0mmatplotlib\u001b[0m\u001b[0;34m.\u001b[0m\u001b[0mpylab\u001b[0m \u001b[0;32mas\u001b[0m \u001b[0mplt\u001b[0m\u001b[0;34m\u001b[0m\u001b[0;34m\u001b[0m\u001b[0m\n\u001b[0;32m----> 4\u001b[0;31m \u001b[0ms\u001b[0m \u001b[0;34m=\u001b[0m \u001b[0mpynbody\u001b[0m\u001b[0;34m.\u001b[0m\u001b[0mload\u001b[0m\u001b[0;34m(\u001b[0m\u001b[0;34m'cube300-b.red.000070'\u001b[0m\u001b[0;34m)\u001b[0m\u001b[0;34m\u001b[0m\u001b[0;34m\u001b[0m\u001b[0m\n\u001b[0m\u001b[1;32m      5\u001b[0m \u001b[0ms\u001b[0m\u001b[0;34m.\u001b[0m\u001b[0mphysical_units\u001b[0m\u001b[0;34m(\u001b[0m\u001b[0;34m)\u001b[0m\u001b[0;34m\u001b[0m\u001b[0;34m\u001b[0m\u001b[0m\n\u001b[1;32m      6\u001b[0m \u001b[0msph\u001b[0m\u001b[0;34m.\u001b[0m\u001b[0mimage\u001b[0m\u001b[0;34m(\u001b[0m\u001b[0ms\u001b[0m\u001b[0;34m.\u001b[0m\u001b[0mg\u001b[0m\u001b[0;34m,\u001b[0m\u001b[0mqty\u001b[0m\u001b[0;34m=\u001b[0m\u001b[0;34m\"rho\"\u001b[0m\u001b[0;34m,\u001b[0m\u001b[0munits\u001b[0m\u001b[0;34m=\u001b[0m\u001b[0;34m\"g cm^-3\"\u001b[0m\u001b[0;34m,\u001b[0m\u001b[0mwidth\u001b[0m\u001b[0;34m=\u001b[0m\u001b[0;36m100\u001b[0m\u001b[0;34m,\u001b[0m\u001b[0mcmap\u001b[0m\u001b[0;34m=\u001b[0m\u001b[0;34m\"Greys\"\u001b[0m\u001b[0;34m)\u001b[0m\u001b[0;34m\u001b[0m\u001b[0;34m\u001b[0m\u001b[0m\n",
      "\u001b[0;32m/anaconda3/lib/python3.7/site-packages/pynbody/snapshot/__init__.py\u001b[0m in \u001b[0;36mload\u001b[0;34m(filename, *args, **kwargs)\u001b[0m\n\u001b[1;32m   1985\u001b[0m \u001b[0;34m\u001b[0m\u001b[0m\n\u001b[1;32m   1986\u001b[0m     raise IOError(\n\u001b[0;32m-> 1987\u001b[0;31m         \"File %r: format not understood or does not exist\" % filename)\n\u001b[0m\u001b[1;32m   1988\u001b[0m \u001b[0;34m\u001b[0m\u001b[0m\n\u001b[1;32m   1989\u001b[0m \u001b[0;32mdef\u001b[0m \u001b[0mnew\u001b[0m\u001b[0;34m(\u001b[0m\u001b[0mn_particles\u001b[0m\u001b[0;34m=\u001b[0m\u001b[0;36m0\u001b[0m\u001b[0;34m,\u001b[0m \u001b[0morder\u001b[0m\u001b[0;34m=\u001b[0m\u001b[0;32mNone\u001b[0m\u001b[0;34m,\u001b[0m \u001b[0;34m**\u001b[0m\u001b[0mfamilies\u001b[0m\u001b[0;34m)\u001b[0m\u001b[0;34m:\u001b[0m\u001b[0;34m\u001b[0m\u001b[0;34m\u001b[0m\u001b[0m\n",
      "\u001b[0;31mOSError\u001b[0m: File 'cube300-b.red.000070': format not understood or does not exist"
     ]
    }
   ],
   "source": [
    "import pynbody\n",
    "import pynbody.plot.sph as sph\n",
    "import matplotlib.pylab as plt\n",
    "s = pynbody.load('cube300-b.red.000070')\n",
    "s.physical_units()\n",
    "sph.image(s.g,qty=\"rho\",units=\"g cm^-3\",width=100,cmap=\"Greys\")"
   ]
  },
  {
   "cell_type": "code",
   "execution_count": 2,
   "metadata": {},
   "outputs": [
    {
     "name": "stderr",
     "output_type": "stream",
     "text": [
      "/anaconda3/lib/python3.7/site-packages/pynbody/snapshot/tipsy.py:130: RuntimeWarning: No readable param file in the run directory or parent directory: using defaults.\n",
      "  \"No readable param file in the run directory or parent directory: using defaults.\", RuntimeWarning)\n",
      "Exception in thread Thread-10:\n",
      "Traceback (most recent call last):\n",
      "  File \"/anaconda3/lib/python3.7/threading.py\", line 917, in _bootstrap_inner\n",
      "    self.run()\n",
      "  File \"/anaconda3/lib/python3.7/threading.py\", line 865, in run\n",
      "    self._target(*self._args, **self._kwargs)\n",
      "  File \"/anaconda3/lib/python3.7/site-packages/pynbody/sph/__init__.py\", line 440, in bridge\n",
      "    X = fn(*args[1:], **kwargs)\n",
      "  File \"/anaconda3/lib/python3.7/site-packages/pynbody/sph/__init__.py\", line 422, in render_fn\n",
      "    base = fn(*args, **kwargs)\n",
      "  File \"/anaconda3/lib/python3.7/site-packages/pynbody/sph/__init__.py\", line 572, in _render_image\n",
      "    snap_proxy[arname] = snap[arname]\n",
      "  File \"/anaconda3/lib/python3.7/site-packages/pynbody/snapshot/__init__.py\", line 264, in __getitem__\n",
      "    return self._get_array_with_lazy_actions(i)\n",
      "  File \"/anaconda3/lib/python3.7/site-packages/pynbody/snapshot/__init__.py\", line 357, in _get_array_with_lazy_actions\n",
      "    self.__derive_if_required(name)\n",
      "  File \"/anaconda3/lib/python3.7/site-packages/pynbody/snapshot/__init__.py\", line 372, in __derive_if_required\n",
      "    self._derive_array(name)\n",
      "  File \"/anaconda3/lib/python3.7/site-packages/pynbody/snapshot/__init__.py\", line 1973, in _derive_array\n",
      "    self.base._derive_array(array_name, self._unifamily)\n",
      "  File \"/anaconda3/lib/python3.7/site-packages/pynbody/snapshot/__init__.py\", line 1502, in _derive_array\n",
      "    result = fn(self[fam])\n",
      "  File \"/anaconda3/lib/python3.7/site-packages/pynbody/sph/__init__.py\", line 137, in smooth\n",
      "    self.kdtree.populate('hsm', config['sph']['smooth-particles'])\n",
      "  File \"/anaconda3/lib/python3.7/site-packages/pynbody/sph/kdtree.py\", line 118, in populate\n",
      "    smx = kdmain.nn_start(self.kdtree, int(nn), self.boxsize)\n",
      "ValueError: Number of smoothing particles exceeds number of particles in tree\n",
      "\n",
      "Exception in thread Thread-9:\n",
      "Traceback (most recent call last):\n",
      "  File \"/anaconda3/lib/python3.7/threading.py\", line 917, in _bootstrap_inner\n",
      "    self.run()\n",
      "  File \"/anaconda3/lib/python3.7/threading.py\", line 865, in run\n",
      "    self._target(*self._args, **self._kwargs)\n",
      "  File \"/anaconda3/lib/python3.7/site-packages/pynbody/sph/__init__.py\", line 440, in bridge\n",
      "    X = fn(*args[1:], **kwargs)\n",
      "  File \"/anaconda3/lib/python3.7/site-packages/pynbody/sph/__init__.py\", line 422, in render_fn\n",
      "    base = fn(*args, **kwargs)\n",
      "  File \"/anaconda3/lib/python3.7/site-packages/pynbody/sph/__init__.py\", line 572, in _render_image\n",
      "    snap_proxy[arname] = snap[arname]\n",
      "  File \"/anaconda3/lib/python3.7/site-packages/pynbody/snapshot/__init__.py\", line 264, in __getitem__\n",
      "    return self._get_array_with_lazy_actions(i)\n",
      "  File \"/anaconda3/lib/python3.7/site-packages/pynbody/snapshot/__init__.py\", line 357, in _get_array_with_lazy_actions\n",
      "    self.__derive_if_required(name)\n",
      "  File \"/anaconda3/lib/python3.7/site-packages/pynbody/snapshot/__init__.py\", line 372, in __derive_if_required\n",
      "    self._derive_array(name)\n",
      "  File \"/anaconda3/lib/python3.7/site-packages/pynbody/snapshot/__init__.py\", line 1973, in _derive_array\n",
      "    self.base._derive_array(array_name, self._unifamily)\n",
      "  File \"/anaconda3/lib/python3.7/site-packages/pynbody/snapshot/__init__.py\", line 1502, in _derive_array\n",
      "    result = fn(self[fam])\n",
      "  File \"/anaconda3/lib/python3.7/site-packages/pynbody/sph/__init__.py\", line 137, in smooth\n",
      "    self.kdtree.populate('hsm', config['sph']['smooth-particles'])\n",
      "  File \"/anaconda3/lib/python3.7/site-packages/pynbody/sph/kdtree.py\", line 118, in populate\n",
      "    smx = kdmain.nn_start(self.kdtree, int(nn), self.boxsize)\n",
      "ValueError: Number of smoothing particles exceeds number of particles in tree\n",
      "Exception in thread Thread-7:\n",
      "Traceback (most recent call last):\n",
      "  File \"/anaconda3/lib/python3.7/threading.py\", line 917, in _bootstrap_inner\n",
      "    self.run()\n",
      "  File \"/anaconda3/lib/python3.7/threading.py\", line 865, in run\n",
      "    self._target(*self._args, **self._kwargs)\n",
      "  File \"/anaconda3/lib/python3.7/site-packages/pynbody/sph/__init__.py\", line 440, in bridge\n",
      "    X = fn(*args[1:], **kwargs)\n",
      "  File \"/anaconda3/lib/python3.7/site-packages/pynbody/sph/__init__.py\", line 422, in render_fn\n",
      "    base = fn(*args, **kwargs)\n",
      "  File \"/anaconda3/lib/python3.7/site-packages/pynbody/sph/__init__.py\", line 572, in _render_image\n",
      "    snap_proxy[arname] = snap[arname]\n",
      "  File \"/anaconda3/lib/python3.7/site-packages/pynbody/snapshot/__init__.py\", line 264, in __getitem__\n",
      "    return self._get_array_with_lazy_actions(i)\n",
      "  File \"/anaconda3/lib/python3.7/site-packages/pynbody/snapshot/__init__.py\", line 357, in _get_array_with_lazy_actions\n",
      "    self.__derive_if_required(name)\n",
      "  File \"/anaconda3/lib/python3.7/site-packages/pynbody/snapshot/__init__.py\", line 372, in __derive_if_required\n",
      "    self._derive_array(name)\n",
      "  File \"/anaconda3/lib/python3.7/site-packages/pynbody/snapshot/__init__.py\", line 1973, in _derive_array\n",
      "    self.base._derive_array(array_name, self._unifamily)\n",
      "  File \"/anaconda3/lib/python3.7/site-packages/pynbody/snapshot/__init__.py\", line 1502, in _derive_array\n",
      "    result = fn(self[fam])\n",
      "  File \"/anaconda3/lib/python3.7/site-packages/pynbody/sph/__init__.py\", line 137, in smooth\n",
      "    self.kdtree.populate('hsm', config['sph']['smooth-particles'])\n",
      "  File \"/anaconda3/lib/python3.7/site-packages/pynbody/sph/kdtree.py\", line 118, in populate\n",
      "    smx = kdmain.nn_start(self.kdtree, int(nn), self.boxsize)\n",
      "ValueError: Number of smoothing particles exceeds number of particles in tree\n",
      "Exception in thread Thread-6:\n",
      "Traceback (most recent call last):\n",
      "  File \"/anaconda3/lib/python3.7/threading.py\", line 917, in _bootstrap_inner\n",
      "    self.run()\n",
      "  File \"/anaconda3/lib/python3.7/threading.py\", line 865, in run\n",
      "    self._target(*self._args, **self._kwargs)\n",
      "  File \"/anaconda3/lib/python3.7/site-packages/pynbody/sph/__init__.py\", line 440, in bridge\n",
      "    X = fn(*args[1:], **kwargs)\n",
      "  File \"/anaconda3/lib/python3.7/site-packages/pynbody/sph/__init__.py\", line 422, in render_fn\n",
      "    base = fn(*args, **kwargs)\n",
      "  File \"/anaconda3/lib/python3.7/site-packages/pynbody/sph/__init__.py\", line 572, in _render_image\n",
      "    snap_proxy[arname] = snap[arname]\n",
      "  File \"/anaconda3/lib/python3.7/site-packages/pynbody/snapshot/__init__.py\", line 264, in __getitem__\n",
      "    return self._get_array_with_lazy_actions(i)\n",
      "  File \"/anaconda3/lib/python3.7/site-packages/pynbody/snapshot/__init__.py\", line 357, in _get_array_with_lazy_actions\n",
      "    self.__derive_if_required(name)\n",
      "  File \"/anaconda3/lib/python3.7/site-packages/pynbody/snapshot/__init__.py\", line 372, in __derive_if_required\n",
      "    self._derive_array(name)\n",
      "  File \"/anaconda3/lib/python3.7/site-packages/pynbody/snapshot/__init__.py\", line 1973, in _derive_array\n",
      "    self.base._derive_array(array_name, self._unifamily)\n",
      "  File \"/anaconda3/lib/python3.7/site-packages/pynbody/snapshot/__init__.py\", line 1502, in _derive_array\n",
      "    result = fn(self[fam])\n",
      "  File \"/anaconda3/lib/python3.7/site-packages/pynbody/sph/__init__.py\", line 137, in smooth\n",
      "    self.kdtree.populate('hsm', config['sph']['smooth-particles'])\n",
      "  File \"/anaconda3/lib/python3.7/site-packages/pynbody/sph/kdtree.py\", line 118, in populate\n",
      "    smx = kdmain.nn_start(self.kdtree, int(nn), self.boxsize)\n",
      "ValueError: Number of smoothing particles exceeds number of particles in tree\n",
      "\n",
      "\n",
      "Exception in thread Thread-4:\n",
      "Traceback (most recent call last):\n",
      "  File \"/anaconda3/lib/python3.7/threading.py\", line 917, in _bootstrap_inner\n",
      "    self.run()\n",
      "  File \"/anaconda3/lib/python3.7/threading.py\", line 865, in run\n",
      "    self._target(*self._args, **self._kwargs)\n",
      "  File \"/anaconda3/lib/python3.7/site-packages/pynbody/sph/__init__.py\", line 440, in bridge\n",
      "    X = fn(*args[1:], **kwargs)\n",
      "  File \"/anaconda3/lib/python3.7/site-packages/pynbody/sph/__init__.py\", line 422, in render_fn\n",
      "    base = fn(*args, **kwargs)\n",
      "  File \"/anaconda3/lib/python3.7/site-packages/pynbody/sph/__init__.py\", line 572, in _render_image\n",
      "    snap_proxy[arname] = snap[arname]\n",
      "  File \"/anaconda3/lib/python3.7/site-packages/pynbody/snapshot/__init__.py\", line 264, in __getitem__\n",
      "    return self._get_array_with_lazy_actions(i)\n",
      "  File \"/anaconda3/lib/python3.7/site-packages/pynbody/snapshot/__init__.py\", line 357, in _get_array_with_lazy_actions\n",
      "    self.__derive_if_required(name)\n",
      "  File \"/anaconda3/lib/python3.7/site-packages/pynbody/snapshot/__init__.py\", line 372, in __derive_if_required\n",
      "    self._derive_array(name)\n",
      "  File \"/anaconda3/lib/python3.7/site-packages/pynbody/snapshot/__init__.py\", line 1973, in _derive_array\n",
      "    self.base._derive_array(array_name, self._unifamily)\n",
      "  File \"/anaconda3/lib/python3.7/site-packages/pynbody/snapshot/__init__.py\", line 1502, in _derive_array\n",
      "    result = fn(self[fam])\n",
      "  File \"/anaconda3/lib/python3.7/site-packages/pynbody/sph/__init__.py\", line 137, in smooth\n",
      "    self.kdtree.populate('hsm', config['sph']['smooth-particles'])\n",
      "  File \"/anaconda3/lib/python3.7/site-packages/pynbody/sph/kdtree.py\", line 118, in populate\n",
      "    smx = kdmain.nn_start(self.kdtree, int(nn), self.boxsize)\n",
      "ValueError: Number of smoothing particles exceeds number of particles in tree\n",
      "\n",
      "\n",
      "Exception in thread Thread-5:\n",
      "Traceback (most recent call last):\n",
      "  File \"/anaconda3/lib/python3.7/threading.py\", line 917, in _bootstrap_inner\n",
      "    self.run()\n",
      "  File \"/anaconda3/lib/python3.7/threading.py\", line 865, in run\n",
      "    self._target(*self._args, **self._kwargs)\n",
      "  File \"/anaconda3/lib/python3.7/site-packages/pynbody/sph/__init__.py\", line 440, in bridge\n",
      "    X = fn(*args[1:], **kwargs)\n",
      "  File \"/anaconda3/lib/python3.7/site-packages/pynbody/sph/__init__.py\", line 422, in render_fn\n",
      "    base = fn(*args, **kwargs)\n",
      "  File \"/anaconda3/lib/python3.7/site-packages/pynbody/sph/__init__.py\", line 572, in _render_image\n",
      "    snap_proxy[arname] = snap[arname]\n",
      "  File \"/anaconda3/lib/python3.7/site-packages/pynbody/snapshot/__init__.py\", line 264, in __getitem__\n",
      "    return self._get_array_with_lazy_actions(i)\n",
      "  File \"/anaconda3/lib/python3.7/site-packages/pynbody/snapshot/__init__.py\", line 357, in _get_array_with_lazy_actions\n",
      "    self.__derive_if_required(name)\n",
      "  File \"/anaconda3/lib/python3.7/site-packages/pynbody/snapshot/__init__.py\", line 372, in __derive_if_required\n",
      "    self._derive_array(name)\n",
      "  File \"/anaconda3/lib/python3.7/site-packages/pynbody/snapshot/__init__.py\", line 1973, in _derive_array\n",
      "    self.base._derive_array(array_name, self._unifamily)\n",
      "  File \"/anaconda3/lib/python3.7/site-packages/pynbody/snapshot/__init__.py\", line 1502, in _derive_array\n",
      "    result = fn(self[fam])\n",
      "  File \"/anaconda3/lib/python3.7/site-packages/pynbody/sph/__init__.py\", line 137, in smooth\n",
      "    self.kdtree.populate('hsm', config['sph']['smooth-particles'])\n",
      "  File \"/anaconda3/lib/python3.7/site-packages/pynbody/sph/kdtree.py\", line 118, in populate\n",
      "    smx = kdmain.nn_start(self.kdtree, int(nn), self.boxsize)\n",
      "ValueError: Number of smoothing particles exceeds number of particles in tree\n",
      "Exception in thread Thread-11:\n",
      "Traceback (most recent call last):\n",
      "  File \"/anaconda3/lib/python3.7/threading.py\", line 917, in _bootstrap_inner\n",
      "    self.run()\n",
      "  File \"/anaconda3/lib/python3.7/threading.py\", line 865, in run\n",
      "    self._target(*self._args, **self._kwargs)\n",
      "  File \"/anaconda3/lib/python3.7/site-packages/pynbody/sph/__init__.py\", line 440, in bridge\n",
      "    X = fn(*args[1:], **kwargs)\n",
      "  File \"/anaconda3/lib/python3.7/site-packages/pynbody/sph/__init__.py\", line 422, in render_fn\n",
      "    base = fn(*args, **kwargs)\n",
      "  File \"/anaconda3/lib/python3.7/site-packages/pynbody/sph/__init__.py\", line 572, in _render_image\n",
      "    snap_proxy[arname] = snap[arname]\n",
      "  File \"/anaconda3/lib/python3.7/site-packages/pynbody/snapshot/__init__.py\", line 264, in __getitem__\n",
      "    return self._get_array_with_lazy_actions(i)\n",
      "  File \"/anaconda3/lib/python3.7/site-packages/pynbody/snapshot/__init__.py\", line 357, in _get_array_with_lazy_actions\n",
      "    self.__derive_if_required(name)\n",
      "  File \"/anaconda3/lib/python3.7/site-packages/pynbody/snapshot/__init__.py\", line 372, in __derive_if_required\n",
      "    self._derive_array(name)\n",
      "  File \"/anaconda3/lib/python3.7/site-packages/pynbody/snapshot/__init__.py\", line 1973, in _derive_array\n",
      "    self.base._derive_array(array_name, self._unifamily)\n",
      "  File \"/anaconda3/lib/python3.7/site-packages/pynbody/snapshot/__init__.py\", line 1502, in _derive_array\n",
      "    result = fn(self[fam])\n",
      "  File \"/anaconda3/lib/python3.7/site-packages/pynbody/sph/__init__.py\", line 137, in smooth\n",
      "    self.kdtree.populate('hsm', config['sph']['smooth-particles'])\n",
      "  File \"/anaconda3/lib/python3.7/site-packages/pynbody/sph/kdtree.py\", line 118, in populate\n",
      "    smx = kdmain.nn_start(self.kdtree, int(nn), self.boxsize)\n",
      "ValueError: Number of smoothing particles exceeds number of particles in tree\n",
      "Exception in thread Thread-8:\n",
      "Traceback (most recent call last):\n",
      "  File \"/anaconda3/lib/python3.7/threading.py\", line 917, in _bootstrap_inner\n",
      "    self.run()\n",
      "  File \"/anaconda3/lib/python3.7/threading.py\", line 865, in run\n",
      "    self._target(*self._args, **self._kwargs)\n",
      "  File \"/anaconda3/lib/python3.7/site-packages/pynbody/sph/__init__.py\", line 440, in bridge\n",
      "    X = fn(*args[1:], **kwargs)\n",
      "  File \"/anaconda3/lib/python3.7/site-packages/pynbody/sph/__init__.py\", line 422, in render_fn\n",
      "    base = fn(*args, **kwargs)\n",
      "  File \"/anaconda3/lib/python3.7/site-packages/pynbody/sph/__init__.py\", line 572, in _render_image\n",
      "    snap_proxy[arname] = snap[arname]\n",
      "  File \"/anaconda3/lib/python3.7/site-packages/pynbody/snapshot/__init__.py\", line 264, in __getitem__\n",
      "    return self._get_array_with_lazy_actions(i)\n",
      "  File \"/anaconda3/lib/python3.7/site-packages/pynbody/snapshot/__init__.py\", line 357, in _get_array_with_lazy_actions\n",
      "    self.__derive_if_required(name)\n",
      "  File \"/anaconda3/lib/python3.7/site-packages/pynbody/snapshot/__init__.py\", line 372, in __derive_if_required\n",
      "    self._derive_array(name)\n",
      "  File \"/anaconda3/lib/python3.7/site-packages/pynbody/snapshot/__init__.py\", line 1973, in _derive_array\n",
      "    self.base._derive_array(array_name, self._unifamily)\n",
      "  File \"/anaconda3/lib/python3.7/site-packages/pynbody/snapshot/__init__.py\", line 1502, in _derive_array\n",
      "    result = fn(self[fam])\n",
      "  File \"/anaconda3/lib/python3.7/site-packages/pynbody/sph/__init__.py\", line 137, in smooth\n",
      "    self.kdtree.populate('hsm', config['sph']['smooth-particles'])\n",
      "  File \"/anaconda3/lib/python3.7/site-packages/pynbody/sph/kdtree.py\", line 118, in populate\n",
      "    smx = kdmain.nn_start(self.kdtree, int(nn), self.boxsize)\n",
      "ValueError: Number of smoothing particles exceeds number of particles in tree\n",
      "\n",
      "\n",
      "\n"
     ]
    },
    {
     "ename": "RuntimeError",
     "evalue": "There was a problem with the multi-threaded image render. Try running again with threaded=False to debug the underlying error.",
     "output_type": "error",
     "traceback": [
      "\u001b[0;31m------------------------------------------------------------\u001b[0m",
      "\u001b[0;31mRuntimeError\u001b[0m               Traceback (most recent call last)",
      "\u001b[0;32m<ipython-input-2-ea33db04ba0f>\u001b[0m in \u001b[0;36m<module>\u001b[0;34m\u001b[0m\n\u001b[1;32m      4\u001b[0m \u001b[0ms\u001b[0m \u001b[0;34m=\u001b[0m \u001b[0mpynbody\u001b[0m\u001b[0;34m.\u001b[0m\u001b[0mload\u001b[0m\u001b[0;34m(\u001b[0m\u001b[0;34m'cube300-b.red.000070'\u001b[0m\u001b[0;34m)\u001b[0m\u001b[0;34m\u001b[0m\u001b[0;34m\u001b[0m\u001b[0m\n\u001b[1;32m      5\u001b[0m \u001b[0ms\u001b[0m\u001b[0;34m.\u001b[0m\u001b[0mphysical_units\u001b[0m\u001b[0;34m(\u001b[0m\u001b[0;34m)\u001b[0m\u001b[0;34m\u001b[0m\u001b[0;34m\u001b[0m\u001b[0m\n\u001b[0;32m----> 6\u001b[0;31m \u001b[0msph\u001b[0m\u001b[0;34m.\u001b[0m\u001b[0mimage\u001b[0m\u001b[0;34m(\u001b[0m\u001b[0ms\u001b[0m\u001b[0;34m.\u001b[0m\u001b[0mg\u001b[0m\u001b[0;34m,\u001b[0m\u001b[0mqty\u001b[0m\u001b[0;34m=\u001b[0m\u001b[0;34m\"rho\"\u001b[0m\u001b[0;34m,\u001b[0m\u001b[0munits\u001b[0m\u001b[0;34m=\u001b[0m\u001b[0;34m\"g cm^-3\"\u001b[0m\u001b[0;34m,\u001b[0m\u001b[0mwidth\u001b[0m\u001b[0;34m=\u001b[0m\u001b[0;36m100\u001b[0m\u001b[0;34m,\u001b[0m\u001b[0mcmap\u001b[0m\u001b[0;34m=\u001b[0m\u001b[0;34m\"Greys\"\u001b[0m\u001b[0;34m)\u001b[0m\u001b[0;34m\u001b[0m\u001b[0;34m\u001b[0m\u001b[0m\n\u001b[0m",
      "\u001b[0;32m/anaconda3/lib/python3.7/site-packages/pynbody/plot/sph.py\u001b[0m in \u001b[0;36mimage\u001b[0;34m(sim, qty, width, resolution, units, log, vmin, vmax, av_z, filename, z_camera, clear, cmap, title, qtytitle, show_cbar, subplot, noplot, ret_im, fill_nan, fill_val, linthresh, **kwargs)\u001b[0m\n\u001b[1;32m    421\u001b[0m     \u001b[0;32melse\u001b[0m\u001b[0;34m:\u001b[0m\u001b[0;34m\u001b[0m\u001b[0;34m\u001b[0m\u001b[0m\n\u001b[1;32m    422\u001b[0m         im = sph.render_image(sim, qty, width / 2, resolution, out_units=units,\n\u001b[0;32m--> 423\u001b[0;31m                               kernel=kernel,  z_camera=z_camera, **kwargs)\n\u001b[0m\u001b[1;32m    424\u001b[0m \u001b[0;34m\u001b[0m\u001b[0m\n\u001b[1;32m    425\u001b[0m     \u001b[0;32mif\u001b[0m \u001b[0mfill_nan\u001b[0m\u001b[0;34m:\u001b[0m\u001b[0;34m\u001b[0m\u001b[0;34m\u001b[0m\u001b[0m\n",
      "\u001b[0;32m/anaconda3/lib/python3.7/site-packages/pynbody/sph/__init__.py\u001b[0m in \u001b[0;36mrender_image\u001b[0;34m(snap, qty, x2, nx, y2, ny, x1, y1, z_plane, out_units, xy_units, kernel, z_camera, smooth, smooth_in_pixels, force_quiet, approximate_fast, threaded, denoise)\u001b[0m\n\u001b[1;32m    531\u001b[0m                                     \u001b[0mout_units\u001b[0m\u001b[0;34m,\u001b[0m \u001b[0mxy_units\u001b[0m\u001b[0;34m,\u001b[0m \u001b[0mkernel\u001b[0m\u001b[0;34m,\u001b[0m \u001b[0mz_camera\u001b[0m\u001b[0;34m,\u001b[0m \u001b[0msmooth\u001b[0m\u001b[0;34m,\u001b[0m\u001b[0;34m\u001b[0m\u001b[0;34m\u001b[0m\u001b[0m\n\u001b[1;32m    532\u001b[0m                                     \u001b[0msmooth_in_pixels\u001b[0m\u001b[0;34m,\u001b[0m \u001b[0;32mTrue\u001b[0m\u001b[0;34m,\u001b[0m\u001b[0;34m\u001b[0m\u001b[0;34m\u001b[0m\u001b[0m\n\u001b[0;32m--> 533\u001b[0;31m                                     num_threads=threaded)\n\u001b[0m\u001b[1;32m    534\u001b[0m     \u001b[0;32melse\u001b[0m\u001b[0;34m:\u001b[0m\u001b[0;34m\u001b[0m\u001b[0;34m\u001b[0m\u001b[0m\n\u001b[1;32m    535\u001b[0m         im = base_renderer(snap, qty, x2, nx, y2, ny, x1, y1, z_plane,\n",
      "\u001b[0;32m/anaconda3/lib/python3.7/site-packages/pynbody/sph/__init__.py\u001b[0m in \u001b[0;36m_threaded_render_image\u001b[0;34m(fn, s, *args, **kwargs)\u001b[0m\n\u001b[1;32m    404\u001b[0m     \u001b[0;31m# Each output is a 1-element list with a numpy array. Sum them.\u001b[0m\u001b[0;34m\u001b[0m\u001b[0;34m\u001b[0m\u001b[0;34m\u001b[0m\u001b[0m\n\u001b[1;32m    405\u001b[0m     \u001b[0;32mif\u001b[0m \u001b[0many\u001b[0m\u001b[0;34m(\u001b[0m\u001b[0;34m[\u001b[0m\u001b[0mlen\u001b[0m\u001b[0;34m(\u001b[0m\u001b[0mo\u001b[0m\u001b[0;34m)\u001b[0m\u001b[0;34m==\u001b[0m\u001b[0;36m0\u001b[0m \u001b[0;32mfor\u001b[0m \u001b[0mo\u001b[0m \u001b[0;32min\u001b[0m \u001b[0moutputs\u001b[0m\u001b[0;34m]\u001b[0m\u001b[0;34m)\u001b[0m\u001b[0;34m:\u001b[0m\u001b[0;34m\u001b[0m\u001b[0;34m\u001b[0m\u001b[0m\n\u001b[0;32m--> 406\u001b[0;31m         \u001b[0;32mraise\u001b[0m \u001b[0mRuntimeError\u001b[0m\u001b[0;34m(\u001b[0m\u001b[0;34m\"There was a problem with the multi-threaded image render. Try running again with threaded=False to debug the underlying error.\"\u001b[0m\u001b[0;34m)\u001b[0m\u001b[0;34m\u001b[0m\u001b[0;34m\u001b[0m\u001b[0m\n\u001b[0m\u001b[1;32m    407\u001b[0m     \u001b[0;32mreturn\u001b[0m \u001b[0msum\u001b[0m\u001b[0;34m(\u001b[0m\u001b[0;34m[\u001b[0m\u001b[0mo\u001b[0m\u001b[0;34m[\u001b[0m\u001b[0;36m0\u001b[0m\u001b[0;34m]\u001b[0m \u001b[0;32mfor\u001b[0m \u001b[0mo\u001b[0m \u001b[0;32min\u001b[0m \u001b[0moutputs\u001b[0m\u001b[0;34m]\u001b[0m\u001b[0;34m)\u001b[0m\u001b[0;34m\u001b[0m\u001b[0;34m\u001b[0m\u001b[0m\n\u001b[1;32m    408\u001b[0m \u001b[0;34m\u001b[0m\u001b[0m\n",
      "\u001b[0;31mRuntimeError\u001b[0m: There was a problem with the multi-threaded image render. Try running again with threaded=False to debug the underlying error."
     ]
    }
   ],
   "source": [
    "import pynbody\n",
    "import pynbody.plot.sph as sph\n",
    "import matplotlib.pylab as plt\n",
    "s = pynbody.load('cube300-b.red.000070')\n",
    "s.physical_units()\n",
    "sph.image(s.g,qty=\"rho\",units=\"g cm^-3\",width=100,cmap=\"Greys\")"
   ]
  },
  {
   "cell_type": "code",
   "execution_count": 3,
   "metadata": {},
   "outputs": [
    {
     "name": "stderr",
     "output_type": "stream",
     "text": [
      "Exception in thread Thread-14:\n",
      "Traceback (most recent call last):\n",
      "  File \"/anaconda3/lib/python3.7/threading.py\", line 917, in _bootstrap_inner\n",
      "    self.run()\n",
      "  File \"/anaconda3/lib/python3.7/threading.py\", line 865, in run\n",
      "    self._target(*self._args, **self._kwargs)\n",
      "  File \"/anaconda3/lib/python3.7/site-packages/pynbody/sph/__init__.py\", line 440, in bridge\n",
      "    X = fn(*args[1:], **kwargs)\n",
      "  File \"/anaconda3/lib/python3.7/site-packages/pynbody/sph/__init__.py\", line 422, in render_fn\n",
      "    base = fn(*args, **kwargs)\n",
      "  File \"/anaconda3/lib/python3.7/site-packages/pynbody/sph/__init__.py\", line 572, in _render_image\n",
      "    snap_proxy[arname] = snap[arname]\n",
      "  File \"/anaconda3/lib/python3.7/site-packages/pynbody/snapshot/__init__.py\", line 264, in __getitem__\n",
      "    return self._get_array_with_lazy_actions(i)\n",
      "  File \"/anaconda3/lib/python3.7/site-packages/pynbody/snapshot/__init__.py\", line 357, in _get_array_with_lazy_actions\n",
      "    self.__derive_if_required(name)\n",
      "  File \"/anaconda3/lib/python3.7/site-packages/pynbody/snapshot/__init__.py\", line 372, in __derive_if_required\n",
      "    self._derive_array(name)\n",
      "  File \"/anaconda3/lib/python3.7/site-packages/pynbody/snapshot/__init__.py\", line 1973, in _derive_array\n",
      "    self.base._derive_array(array_name, self._unifamily)\n",
      "  File \"/anaconda3/lib/python3.7/site-packages/pynbody/snapshot/__init__.py\", line 1502, in _derive_array\n",
      "    result = fn(self[fam])\n",
      "  File \"/anaconda3/lib/python3.7/site-packages/pynbody/sph/__init__.py\", line 137, in smooth\n",
      "    self.kdtree.populate('hsm', config['sph']['smooth-particles'])\n",
      "  File \"/anaconda3/lib/python3.7/site-packages/pynbody/sph/kdtree.py\", line 118, in populate\n",
      "    smx = kdmain.nn_start(self.kdtree, int(nn), self.boxsize)\n",
      "ValueError: Number of smoothing particles exceeds number of particles in tree\n",
      "Exception in thread Thread-12:\n",
      "Traceback (most recent call last):\n",
      "  File \"/anaconda3/lib/python3.7/threading.py\", line 917, in _bootstrap_inner\n",
      "    self.run()\n",
      "  File \"/anaconda3/lib/python3.7/threading.py\", line 865, in run\n",
      "    self._target(*self._args, **self._kwargs)\n",
      "  File \"/anaconda3/lib/python3.7/site-packages/pynbody/sph/__init__.py\", line 440, in bridge\n",
      "    X = fn(*args[1:], **kwargs)\n",
      "  File \"/anaconda3/lib/python3.7/site-packages/pynbody/sph/__init__.py\", line 422, in render_fn\n",
      "    base = fn(*args, **kwargs)\n",
      "  File \"/anaconda3/lib/python3.7/site-packages/pynbody/sph/__init__.py\", line 572, in _render_image\n",
      "    snap_proxy[arname] = snap[arname]\n",
      "  File \"/anaconda3/lib/python3.7/site-packages/pynbody/snapshot/__init__.py\", line 264, in __getitem__\n",
      "    return self._get_array_with_lazy_actions(i)\n",
      "  File \"/anaconda3/lib/python3.7/site-packages/pynbody/snapshot/__init__.py\", line 357, in _get_array_with_lazy_actions\n",
      "    self.__derive_if_required(name)\n",
      "  File \"/anaconda3/lib/python3.7/site-packages/pynbody/snapshot/__init__.py\", line 372, in __derive_if_required\n",
      "    self._derive_array(name)\n",
      "  File \"/anaconda3/lib/python3.7/site-packages/pynbody/snapshot/__init__.py\", line 1973, in _derive_array\n",
      "    self.base._derive_array(array_name, self._unifamily)\n",
      "  File \"/anaconda3/lib/python3.7/site-packages/pynbody/snapshot/__init__.py\", line 1502, in _derive_array\n",
      "    result = fn(self[fam])\n",
      "  File \"/anaconda3/lib/python3.7/site-packages/pynbody/sph/__init__.py\", line 137, in smooth\n",
      "    self.kdtree.populate('hsm', config['sph']['smooth-particles'])\n",
      "  File \"/anaconda3/lib/python3.7/site-packages/pynbody/sph/kdtree.py\", line 118, in populate\n",
      "    smx = kdmain.nn_start(self.kdtree, int(nn), self.boxsize)\n",
      "ValueError: Number of smoothing particles exceeds number of particles in tree\n",
      "Exception in thread Thread-13:\n",
      "Traceback (most recent call last):\n",
      "  File \"/anaconda3/lib/python3.7/threading.py\", line 917, in _bootstrap_inner\n",
      "    self.run()\n",
      "  File \"/anaconda3/lib/python3.7/threading.py\", line 865, in run\n",
      "    self._target(*self._args, **self._kwargs)\n",
      "  File \"/anaconda3/lib/python3.7/site-packages/pynbody/sph/__init__.py\", line 440, in bridge\n",
      "    X = fn(*args[1:], **kwargs)\n",
      "  File \"/anaconda3/lib/python3.7/site-packages/pynbody/sph/__init__.py\", line 422, in render_fn\n",
      "    base = fn(*args, **kwargs)\n",
      "  File \"/anaconda3/lib/python3.7/site-packages/pynbody/sph/__init__.py\", line 572, in _render_image\n",
      "    snap_proxy[arname] = snap[arname]\n",
      "  File \"/anaconda3/lib/python3.7/site-packages/pynbody/snapshot/__init__.py\", line 264, in __getitem__\n",
      "    return self._get_array_with_lazy_actions(i)\n",
      "  File \"/anaconda3/lib/python3.7/site-packages/pynbody/snapshot/__init__.py\", line 357, in _get_array_with_lazy_actions\n",
      "    self.__derive_if_required(name)\n",
      "  File \"/anaconda3/lib/python3.7/site-packages/pynbody/snapshot/__init__.py\", line 372, in __derive_if_required\n",
      "    self._derive_array(name)\n",
      "  File \"/anaconda3/lib/python3.7/site-packages/pynbody/snapshot/__init__.py\", line 1973, in _derive_array\n",
      "    self.base._derive_array(array_name, self._unifamily)\n",
      "  File \"/anaconda3/lib/python3.7/site-packages/pynbody/snapshot/__init__.py\", line 1502, in _derive_array\n",
      "    result = fn(self[fam])\n",
      "  File \"/anaconda3/lib/python3.7/site-packages/pynbody/sph/__init__.py\", line 137, in smooth\n",
      "    self.kdtree.populate('hsm', config['sph']['smooth-particles'])\n",
      "  File \"/anaconda3/lib/python3.7/site-packages/pynbody/sph/kdtree.py\", line 118, in populate\n",
      "    smx = kdmain.nn_start(self.kdtree, int(nn), self.boxsize)\n",
      "ValueError: Number of smoothing particles exceeds number of particles in tree\n",
      "\n",
      "\n",
      "\n",
      "Exception in thread Thread-15:\n",
      "Traceback (most recent call last):\n",
      "  File \"/anaconda3/lib/python3.7/threading.py\", line 917, in _bootstrap_inner\n",
      "    self.run()\n",
      "  File \"/anaconda3/lib/python3.7/threading.py\", line 865, in run\n",
      "    self._target(*self._args, **self._kwargs)\n",
      "  File \"/anaconda3/lib/python3.7/site-packages/pynbody/sph/__init__.py\", line 440, in bridge\n",
      "    X = fn(*args[1:], **kwargs)\n",
      "  File \"/anaconda3/lib/python3.7/site-packages/pynbody/sph/__init__.py\", line 422, in render_fn\n",
      "    base = fn(*args, **kwargs)\n",
      "  File \"/anaconda3/lib/python3.7/site-packages/pynbody/sph/__init__.py\", line 572, in _render_image\n",
      "    snap_proxy[arname] = snap[arname]\n",
      "  File \"/anaconda3/lib/python3.7/site-packages/pynbody/snapshot/__init__.py\", line 264, in __getitem__\n",
      "    return self._get_array_with_lazy_actions(i)\n",
      "  File \"/anaconda3/lib/python3.7/site-packages/pynbody/snapshot/__init__.py\", line 357, in _get_array_with_lazy_actions\n",
      "    self.__derive_if_required(name)\n",
      "  File \"/anaconda3/lib/python3.7/site-packages/pynbody/snapshot/__init__.py\", line 372, in __derive_if_required\n",
      "    self._derive_array(name)\n",
      "  File \"/anaconda3/lib/python3.7/site-packages/pynbody/snapshot/__init__.py\", line 1973, in _derive_array\n",
      "    self.base._derive_array(array_name, self._unifamily)\n",
      "  File \"/anaconda3/lib/python3.7/site-packages/pynbody/snapshot/__init__.py\", line 1502, in _derive_array\n",
      "    result = fn(self[fam])\n",
      "  File \"/anaconda3/lib/python3.7/site-packages/pynbody/sph/__init__.py\", line 137, in smooth\n",
      "    self.kdtree.populate('hsm', config['sph']['smooth-particles'])\n",
      "  File \"/anaconda3/lib/python3.7/site-packages/pynbody/sph/kdtree.py\", line 118, in populate\n",
      "    smx = kdmain.nn_start(self.kdtree, int(nn), self.boxsize)\n",
      "ValueError: Number of smoothing particles exceeds number of particles in tree\n",
      "Exception in thread Thread-16:\n",
      "Traceback (most recent call last):\n",
      "  File \"/anaconda3/lib/python3.7/threading.py\", line 917, in _bootstrap_inner\n",
      "    self.run()\n",
      "  File \"/anaconda3/lib/python3.7/threading.py\", line 865, in run\n",
      "    self._target(*self._args, **self._kwargs)\n",
      "  File \"/anaconda3/lib/python3.7/site-packages/pynbody/sph/__init__.py\", line 440, in bridge\n",
      "    X = fn(*args[1:], **kwargs)\n",
      "  File \"/anaconda3/lib/python3.7/site-packages/pynbody/sph/__init__.py\", line 422, in render_fn\n",
      "    base = fn(*args, **kwargs)\n",
      "  File \"/anaconda3/lib/python3.7/site-packages/pynbody/sph/__init__.py\", line 572, in _render_image\n",
      "    snap_proxy[arname] = snap[arname]\n",
      "  File \"/anaconda3/lib/python3.7/site-packages/pynbody/snapshot/__init__.py\", line 264, in __getitem__\n",
      "    return self._get_array_with_lazy_actions(i)\n",
      "  File \"/anaconda3/lib/python3.7/site-packages/pynbody/snapshot/__init__.py\", line 357, in _get_array_with_lazy_actions\n",
      "    self.__derive_if_required(name)\n",
      "  File \"/anaconda3/lib/python3.7/site-packages/pynbody/snapshot/__init__.py\", line 372, in __derive_if_required\n",
      "    self._derive_array(name)\n",
      "  File \"/anaconda3/lib/python3.7/site-packages/pynbody/snapshot/__init__.py\", line 1973, in _derive_array\n",
      "    self.base._derive_array(array_name, self._unifamily)\n",
      "  File \"/anaconda3/lib/python3.7/site-packages/pynbody/snapshot/__init__.py\", line 1502, in _derive_array\n",
      "    result = fn(self[fam])\n",
      "  File \"/anaconda3/lib/python3.7/site-packages/pynbody/sph/__init__.py\", line 137, in smooth\n",
      "    self.kdtree.populate('hsm', config['sph']['smooth-particles'])\n",
      "  File \"/anaconda3/lib/python3.7/site-packages/pynbody/sph/kdtree.py\", line 118, in populate\n",
      "    smx = kdmain.nn_start(self.kdtree, int(nn), self.boxsize)\n",
      "ValueError: Number of smoothing particles exceeds number of particles in tree\n",
      "\n",
      "\n",
      "Exception in thread Thread-17:\n",
      "Traceback (most recent call last):\n",
      "  File \"/anaconda3/lib/python3.7/threading.py\", line 917, in _bootstrap_inner\n",
      "    self.run()\n",
      "  File \"/anaconda3/lib/python3.7/threading.py\", line 865, in run\n",
      "    self._target(*self._args, **self._kwargs)\n",
      "  File \"/anaconda3/lib/python3.7/site-packages/pynbody/sph/__init__.py\", line 440, in bridge\n",
      "    X = fn(*args[1:], **kwargs)\n",
      "  File \"/anaconda3/lib/python3.7/site-packages/pynbody/sph/__init__.py\", line 422, in render_fn\n",
      "    base = fn(*args, **kwargs)\n",
      "  File \"/anaconda3/lib/python3.7/site-packages/pynbody/sph/__init__.py\", line 572, in _render_image\n",
      "    snap_proxy[arname] = snap[arname]\n",
      "  File \"/anaconda3/lib/python3.7/site-packages/pynbody/snapshot/__init__.py\", line 264, in __getitem__\n",
      "    return self._get_array_with_lazy_actions(i)\n",
      "  File \"/anaconda3/lib/python3.7/site-packages/pynbody/snapshot/__init__.py\", line 357, in _get_array_with_lazy_actions\n",
      "    self.__derive_if_required(name)\n",
      "  File \"/anaconda3/lib/python3.7/site-packages/pynbody/snapshot/__init__.py\", line 372, in __derive_if_required\n",
      "    self._derive_array(name)\n",
      "  File \"/anaconda3/lib/python3.7/site-packages/pynbody/snapshot/__init__.py\", line 1973, in _derive_array\n",
      "    self.base._derive_array(array_name, self._unifamily)\n",
      "  File \"/anaconda3/lib/python3.7/site-packages/pynbody/snapshot/__init__.py\", line 1502, in _derive_array\n",
      "    result = fn(self[fam])\n",
      "  File \"/anaconda3/lib/python3.7/site-packages/pynbody/sph/__init__.py\", line 137, in smooth\n",
      "    self.kdtree.populate('hsm', config['sph']['smooth-particles'])\n",
      "  File \"/anaconda3/lib/python3.7/site-packages/pynbody/sph/kdtree.py\", line 118, in populate\n",
      "    smx = kdmain.nn_start(self.kdtree, int(nn), self.boxsize)\n",
      "ValueError: Number of smoothing particles exceeds number of particles in tree\n",
      "Exception in thread Thread-18:\n",
      "Traceback (most recent call last):\n",
      "  File \"/anaconda3/lib/python3.7/threading.py\", line 917, in _bootstrap_inner\n",
      "    self.run()\n",
      "  File \"/anaconda3/lib/python3.7/threading.py\", line 865, in run\n",
      "    self._target(*self._args, **self._kwargs)\n",
      "  File \"/anaconda3/lib/python3.7/site-packages/pynbody/sph/__init__.py\", line 440, in bridge\n",
      "    X = fn(*args[1:], **kwargs)\n",
      "  File \"/anaconda3/lib/python3.7/site-packages/pynbody/sph/__init__.py\", line 422, in render_fn\n",
      "    base = fn(*args, **kwargs)\n",
      "  File \"/anaconda3/lib/python3.7/site-packages/pynbody/sph/__init__.py\", line 572, in _render_image\n",
      "    snap_proxy[arname] = snap[arname]\n",
      "  File \"/anaconda3/lib/python3.7/site-packages/pynbody/snapshot/__init__.py\", line 264, in __getitem__\n",
      "    return self._get_array_with_lazy_actions(i)\n",
      "  File \"/anaconda3/lib/python3.7/site-packages/pynbody/snapshot/__init__.py\", line 357, in _get_array_with_lazy_actions\n",
      "    self.__derive_if_required(name)\n",
      "  File \"/anaconda3/lib/python3.7/site-packages/pynbody/snapshot/__init__.py\", line 372, in __derive_if_required\n",
      "    self._derive_array(name)\n",
      "  File \"/anaconda3/lib/python3.7/site-packages/pynbody/snapshot/__init__.py\", line 1973, in _derive_array\n",
      "    self.base._derive_array(array_name, self._unifamily)\n",
      "  File \"/anaconda3/lib/python3.7/site-packages/pynbody/snapshot/__init__.py\", line 1502, in _derive_array\n",
      "    result = fn(self[fam])\n",
      "  File \"/anaconda3/lib/python3.7/site-packages/pynbody/sph/__init__.py\", line 137, in smooth\n",
      "    self.kdtree.populate('hsm', config['sph']['smooth-particles'])\n",
      "  File \"/anaconda3/lib/python3.7/site-packages/pynbody/sph/kdtree.py\", line 118, in populate\n",
      "    smx = kdmain.nn_start(self.kdtree, int(nn), self.boxsize)\n",
      "ValueError: Number of smoothing particles exceeds number of particles in tree\n",
      "\n",
      "Exception in thread Thread-19:\n",
      "Traceback (most recent call last):\n",
      "  File \"/anaconda3/lib/python3.7/threading.py\", line 917, in _bootstrap_inner\n",
      "    self.run()\n",
      "  File \"/anaconda3/lib/python3.7/threading.py\", line 865, in run\n",
      "    self._target(*self._args, **self._kwargs)\n",
      "  File \"/anaconda3/lib/python3.7/site-packages/pynbody/sph/__init__.py\", line 440, in bridge\n",
      "    X = fn(*args[1:], **kwargs)\n",
      "  File \"/anaconda3/lib/python3.7/site-packages/pynbody/sph/__init__.py\", line 422, in render_fn\n",
      "    base = fn(*args, **kwargs)\n",
      "  File \"/anaconda3/lib/python3.7/site-packages/pynbody/sph/__init__.py\", line 572, in _render_image\n",
      "    snap_proxy[arname] = snap[arname]\n",
      "  File \"/anaconda3/lib/python3.7/site-packages/pynbody/snapshot/__init__.py\", line 264, in __getitem__\n",
      "    return self._get_array_with_lazy_actions(i)\n",
      "  File \"/anaconda3/lib/python3.7/site-packages/pynbody/snapshot/__init__.py\", line 357, in _get_array_with_lazy_actions\n",
      "    self.__derive_if_required(name)\n",
      "  File \"/anaconda3/lib/python3.7/site-packages/pynbody/snapshot/__init__.py\", line 372, in __derive_if_required\n",
      "    self._derive_array(name)\n",
      "  File \"/anaconda3/lib/python3.7/site-packages/pynbody/snapshot/__init__.py\", line 1973, in _derive_array\n",
      "    self.base._derive_array(array_name, self._unifamily)\n",
      "  File \"/anaconda3/lib/python3.7/site-packages/pynbody/snapshot/__init__.py\", line 1502, in _derive_array\n",
      "    result = fn(self[fam])\n",
      "  File \"/anaconda3/lib/python3.7/site-packages/pynbody/sph/__init__.py\", line 137, in smooth\n",
      "    self.kdtree.populate('hsm', config['sph']['smooth-particles'])\n",
      "  File \"/anaconda3/lib/python3.7/site-packages/pynbody/sph/kdtree.py\", line 118, in populate\n",
      "    smx = kdmain.nn_start(self.kdtree, int(nn), self.boxsize)\n",
      "ValueError: Number of smoothing particles exceeds number of particles in tree\n",
      "\n",
      "\n"
     ]
    },
    {
     "ename": "RuntimeError",
     "evalue": "There was a problem with the multi-threaded image render. Try running again with threaded=False to debug the underlying error.",
     "output_type": "error",
     "traceback": [
      "\u001b[0;31m------------------------------------------------------------\u001b[0m",
      "\u001b[0;31mRuntimeError\u001b[0m               Traceback (most recent call last)",
      "\u001b[0;32m<ipython-input-3-63bb3ac3bd9d>\u001b[0m in \u001b[0;36m<module>\u001b[0;34m\u001b[0m\n\u001b[1;32m      4\u001b[0m \u001b[0ms\u001b[0m \u001b[0;34m=\u001b[0m \u001b[0mpynbody\u001b[0m\u001b[0;34m.\u001b[0m\u001b[0mload\u001b[0m\u001b[0;34m(\u001b[0m\u001b[0;34m'cube300-b.red.000070'\u001b[0m\u001b[0;34m)\u001b[0m\u001b[0;34m\u001b[0m\u001b[0;34m\u001b[0m\u001b[0m\n\u001b[1;32m      5\u001b[0m \u001b[0ms\u001b[0m\u001b[0;34m.\u001b[0m\u001b[0mphysical_units\u001b[0m\u001b[0;34m(\u001b[0m\u001b[0;34m)\u001b[0m\u001b[0;34m\u001b[0m\u001b[0;34m\u001b[0m\u001b[0m\n\u001b[0;32m----> 6\u001b[0;31m \u001b[0msph\u001b[0m\u001b[0;34m.\u001b[0m\u001b[0mimage\u001b[0m\u001b[0;34m(\u001b[0m\u001b[0ms\u001b[0m\u001b[0;34m.\u001b[0m\u001b[0mg\u001b[0m\u001b[0;34m,\u001b[0m\u001b[0mwidth\u001b[0m\u001b[0;34m=\u001b[0m\u001b[0;36m100\u001b[0m\u001b[0;34m,\u001b[0m\u001b[0mcmap\u001b[0m\u001b[0;34m=\u001b[0m\u001b[0;34m\"Greys\"\u001b[0m\u001b[0;34m)\u001b[0m\u001b[0;34m\u001b[0m\u001b[0;34m\u001b[0m\u001b[0m\n\u001b[0m",
      "\u001b[0;32m/anaconda3/lib/python3.7/site-packages/pynbody/plot/sph.py\u001b[0m in \u001b[0;36mimage\u001b[0;34m(sim, qty, width, resolution, units, log, vmin, vmax, av_z, filename, z_camera, clear, cmap, title, qtytitle, show_cbar, subplot, noplot, ret_im, fill_nan, fill_val, linthresh, **kwargs)\u001b[0m\n\u001b[1;32m    421\u001b[0m     \u001b[0;32melse\u001b[0m\u001b[0;34m:\u001b[0m\u001b[0;34m\u001b[0m\u001b[0;34m\u001b[0m\u001b[0m\n\u001b[1;32m    422\u001b[0m         im = sph.render_image(sim, qty, width / 2, resolution, out_units=units,\n\u001b[0;32m--> 423\u001b[0;31m                               kernel=kernel,  z_camera=z_camera, **kwargs)\n\u001b[0m\u001b[1;32m    424\u001b[0m \u001b[0;34m\u001b[0m\u001b[0m\n\u001b[1;32m    425\u001b[0m     \u001b[0;32mif\u001b[0m \u001b[0mfill_nan\u001b[0m\u001b[0;34m:\u001b[0m\u001b[0;34m\u001b[0m\u001b[0;34m\u001b[0m\u001b[0m\n",
      "\u001b[0;32m/anaconda3/lib/python3.7/site-packages/pynbody/sph/__init__.py\u001b[0m in \u001b[0;36mrender_image\u001b[0;34m(snap, qty, x2, nx, y2, ny, x1, y1, z_plane, out_units, xy_units, kernel, z_camera, smooth, smooth_in_pixels, force_quiet, approximate_fast, threaded, denoise)\u001b[0m\n\u001b[1;32m    531\u001b[0m                                     \u001b[0mout_units\u001b[0m\u001b[0;34m,\u001b[0m \u001b[0mxy_units\u001b[0m\u001b[0;34m,\u001b[0m \u001b[0mkernel\u001b[0m\u001b[0;34m,\u001b[0m \u001b[0mz_camera\u001b[0m\u001b[0;34m,\u001b[0m \u001b[0msmooth\u001b[0m\u001b[0;34m,\u001b[0m\u001b[0;34m\u001b[0m\u001b[0;34m\u001b[0m\u001b[0m\n\u001b[1;32m    532\u001b[0m                                     \u001b[0msmooth_in_pixels\u001b[0m\u001b[0;34m,\u001b[0m \u001b[0;32mTrue\u001b[0m\u001b[0;34m,\u001b[0m\u001b[0;34m\u001b[0m\u001b[0;34m\u001b[0m\u001b[0m\n\u001b[0;32m--> 533\u001b[0;31m                                     num_threads=threaded)\n\u001b[0m\u001b[1;32m    534\u001b[0m     \u001b[0;32melse\u001b[0m\u001b[0;34m:\u001b[0m\u001b[0;34m\u001b[0m\u001b[0;34m\u001b[0m\u001b[0m\n\u001b[1;32m    535\u001b[0m         im = base_renderer(snap, qty, x2, nx, y2, ny, x1, y1, z_plane,\n",
      "\u001b[0;32m/anaconda3/lib/python3.7/site-packages/pynbody/sph/__init__.py\u001b[0m in \u001b[0;36m_threaded_render_image\u001b[0;34m(fn, s, *args, **kwargs)\u001b[0m\n\u001b[1;32m    404\u001b[0m     \u001b[0;31m# Each output is a 1-element list with a numpy array. Sum them.\u001b[0m\u001b[0;34m\u001b[0m\u001b[0;34m\u001b[0m\u001b[0;34m\u001b[0m\u001b[0m\n\u001b[1;32m    405\u001b[0m     \u001b[0;32mif\u001b[0m \u001b[0many\u001b[0m\u001b[0;34m(\u001b[0m\u001b[0;34m[\u001b[0m\u001b[0mlen\u001b[0m\u001b[0;34m(\u001b[0m\u001b[0mo\u001b[0m\u001b[0;34m)\u001b[0m\u001b[0;34m==\u001b[0m\u001b[0;36m0\u001b[0m \u001b[0;32mfor\u001b[0m \u001b[0mo\u001b[0m \u001b[0;32min\u001b[0m \u001b[0moutputs\u001b[0m\u001b[0;34m]\u001b[0m\u001b[0;34m)\u001b[0m\u001b[0;34m:\u001b[0m\u001b[0;34m\u001b[0m\u001b[0;34m\u001b[0m\u001b[0m\n\u001b[0;32m--> 406\u001b[0;31m         \u001b[0;32mraise\u001b[0m \u001b[0mRuntimeError\u001b[0m\u001b[0;34m(\u001b[0m\u001b[0;34m\"There was a problem with the multi-threaded image render. Try running again with threaded=False to debug the underlying error.\"\u001b[0m\u001b[0;34m)\u001b[0m\u001b[0;34m\u001b[0m\u001b[0;34m\u001b[0m\u001b[0m\n\u001b[0m\u001b[1;32m    407\u001b[0m     \u001b[0;32mreturn\u001b[0m \u001b[0msum\u001b[0m\u001b[0;34m(\u001b[0m\u001b[0;34m[\u001b[0m\u001b[0mo\u001b[0m\u001b[0;34m[\u001b[0m\u001b[0;36m0\u001b[0m\u001b[0;34m]\u001b[0m \u001b[0;32mfor\u001b[0m \u001b[0mo\u001b[0m \u001b[0;32min\u001b[0m \u001b[0moutputs\u001b[0m\u001b[0;34m]\u001b[0m\u001b[0;34m)\u001b[0m\u001b[0;34m\u001b[0m\u001b[0;34m\u001b[0m\u001b[0m\n\u001b[1;32m    408\u001b[0m \u001b[0;34m\u001b[0m\u001b[0m\n",
      "\u001b[0;31mRuntimeError\u001b[0m: There was a problem with the multi-threaded image render. Try running again with threaded=False to debug the underlying error."
     ]
    }
   ],
   "source": [
    "import pynbody\n",
    "import pynbody.plot.sph as sph\n",
    "import matplotlib.pylab as plt\n",
    "s = pynbody.load('cube300-b.red.000070')\n",
    "s.physical_units()\n",
    "sph.image(s.g,width=100,cmap=\"Greys\")"
   ]
  },
  {
   "cell_type": "code",
   "execution_count": 4,
   "metadata": {},
   "outputs": [
    {
     "name": "stderr",
     "output_type": "stream",
     "text": [
      "Exception in thread Thread-20:\n",
      "Traceback (most recent call last):\n",
      "  File \"/anaconda3/lib/python3.7/threading.py\", line 917, in _bootstrap_inner\n",
      "    self.run()\n",
      "  File \"/anaconda3/lib/python3.7/threading.py\", line 865, in run\n",
      "    self._target(*self._args, **self._kwargs)\n",
      "  File \"/anaconda3/lib/python3.7/site-packages/pynbody/sph/__init__.py\", line 440, in bridge\n",
      "    X = fn(*args[1:], **kwargs)\n",
      "  File \"/anaconda3/lib/python3.7/site-packages/pynbody/sph/__init__.py\", line 572, in _render_image\n",
      "    snap_proxy[arname] = snap[arname]\n",
      "  File \"/anaconda3/lib/python3.7/site-packages/pynbody/snapshot/__init__.py\", line 264, in __getitem__\n",
      "    return self._get_array_with_lazy_actions(i)\n",
      "  File \"/anaconda3/lib/python3.7/site-packages/pynbody/snapshot/__init__.py\", line 357, in _get_array_with_lazy_actions\n",
      "    self.__derive_if_required(name)\n",
      "  File \"/anaconda3/lib/python3.7/site-packages/pynbody/snapshot/__init__.py\", line 372, in __derive_if_required\n",
      "    self._derive_array(name)\n",
      "  File \"/anaconda3/lib/python3.7/site-packages/pynbody/snapshot/__init__.py\", line 1973, in _derive_array\n",
      "    self.base._derive_array(array_name, self._unifamily)\n",
      "  File \"/anaconda3/lib/python3.7/site-packages/pynbody/snapshot/__init__.py\", line 1502, in _derive_array\n",
      "    result = fn(self[fam])\n",
      "  File \"/anaconda3/lib/python3.7/site-packages/pynbody/sph/__init__.py\", line 137, in smooth\n",
      "    self.kdtree.populate('hsm', config['sph']['smooth-particles'])\n",
      "  File \"/anaconda3/lib/python3.7/site-packages/pynbody/sph/kdtree.py\", line 118, in populate\n",
      "    smx = kdmain.nn_start(self.kdtree, int(nn), self.boxsize)\n",
      "ValueError: Number of smoothing particles exceeds number of particles in tree\n",
      "Exception in thread Thread-21:\n",
      "Traceback (most recent call last):\n",
      "  File \"/anaconda3/lib/python3.7/threading.py\", line 917, in _bootstrap_inner\n",
      "    self.run()\n",
      "  File \"/anaconda3/lib/python3.7/threading.py\", line 865, in run\n",
      "    self._target(*self._args, **self._kwargs)\n",
      "  File \"/anaconda3/lib/python3.7/site-packages/pynbody/sph/__init__.py\", line 440, in bridge\n",
      "    X = fn(*args[1:], **kwargs)\n",
      "  File \"/anaconda3/lib/python3.7/site-packages/pynbody/sph/__init__.py\", line 572, in _render_image\n",
      "    snap_proxy[arname] = snap[arname]\n",
      "  File \"/anaconda3/lib/python3.7/site-packages/pynbody/snapshot/__init__.py\", line 264, in __getitem__\n",
      "    return self._get_array_with_lazy_actions(i)\n",
      "  File \"/anaconda3/lib/python3.7/site-packages/pynbody/snapshot/__init__.py\", line 357, in _get_array_with_lazy_actions\n",
      "    self.__derive_if_required(name)\n",
      "  File \"/anaconda3/lib/python3.7/site-packages/pynbody/snapshot/__init__.py\", line 372, in __derive_if_required\n",
      "    self._derive_array(name)\n",
      "  File \"/anaconda3/lib/python3.7/site-packages/pynbody/snapshot/__init__.py\", line 1973, in _derive_array\n",
      "    self.base._derive_array(array_name, self._unifamily)\n",
      "  File \"/anaconda3/lib/python3.7/site-packages/pynbody/snapshot/__init__.py\", line 1502, in _derive_array\n",
      "    result = fn(self[fam])\n",
      "  File \"/anaconda3/lib/python3.7/site-packages/pynbody/sph/__init__.py\", line 137, in smooth\n",
      "    self.kdtree.populate('hsm', config['sph']['smooth-particles'])\n",
      "  File \"/anaconda3/lib/python3.7/site-packages/pynbody/sph/kdtree.py\", line 118, in populate\n",
      "    smx = kdmain.nn_start(self.kdtree, int(nn), self.boxsize)\n",
      "ValueError: Number of smoothing particles exceeds number of particles in tree\n",
      "\n",
      "\n",
      "Exception in thread Thread-22:\n",
      "Traceback (most recent call last):\n",
      "  File \"/anaconda3/lib/python3.7/threading.py\", line 917, in _bootstrap_inner\n",
      "    self.run()\n",
      "  File \"/anaconda3/lib/python3.7/threading.py\", line 865, in run\n",
      "    self._target(*self._args, **self._kwargs)\n",
      "  File \"/anaconda3/lib/python3.7/site-packages/pynbody/sph/__init__.py\", line 440, in bridge\n",
      "    X = fn(*args[1:], **kwargs)\n",
      "  File \"/anaconda3/lib/python3.7/site-packages/pynbody/sph/__init__.py\", line 572, in _render_image\n",
      "    snap_proxy[arname] = snap[arname]\n",
      "  File \"/anaconda3/lib/python3.7/site-packages/pynbody/snapshot/__init__.py\", line 264, in __getitem__\n",
      "    return self._get_array_with_lazy_actions(i)\n",
      "  File \"/anaconda3/lib/python3.7/site-packages/pynbody/snapshot/__init__.py\", line 357, in _get_array_with_lazy_actions\n",
      "    self.__derive_if_required(name)\n",
      "  File \"/anaconda3/lib/python3.7/site-packages/pynbody/snapshot/__init__.py\", line 372, in __derive_if_required\n",
      "    self._derive_array(name)\n",
      "  File \"/anaconda3/lib/python3.7/site-packages/pynbody/snapshot/__init__.py\", line 1973, in _derive_array\n",
      "    self.base._derive_array(array_name, self._unifamily)\n",
      "  File \"/anaconda3/lib/python3.7/site-packages/pynbody/snapshot/__init__.py\", line 1502, in _derive_array\n",
      "    result = fn(self[fam])\n",
      "  File \"/anaconda3/lib/python3.7/site-packages/pynbody/sph/__init__.py\", line 137, in smooth\n",
      "    self.kdtree.populate('hsm', config['sph']['smooth-particles'])\n",
      "  File \"/anaconda3/lib/python3.7/site-packages/pynbody/sph/kdtree.py\", line 118, in populate\n",
      "    smx = kdmain.nn_start(self.kdtree, int(nn), self.boxsize)\n",
      "ValueError: Number of smoothing particles exceeds number of particles in tree\n",
      "\n",
      "Exception in thread Thread-23:\n",
      "Traceback (most recent call last):\n",
      "  File \"/anaconda3/lib/python3.7/threading.py\", line 917, in _bootstrap_inner\n",
      "    self.run()\n",
      "  File \"/anaconda3/lib/python3.7/threading.py\", line 865, in run\n",
      "    self._target(*self._args, **self._kwargs)\n",
      "  File \"/anaconda3/lib/python3.7/site-packages/pynbody/sph/__init__.py\", line 440, in bridge\n",
      "    X = fn(*args[1:], **kwargs)\n",
      "  File \"/anaconda3/lib/python3.7/site-packages/pynbody/sph/__init__.py\", line 572, in _render_image\n",
      "    snap_proxy[arname] = snap[arname]\n",
      "  File \"/anaconda3/lib/python3.7/site-packages/pynbody/snapshot/__init__.py\", line 264, in __getitem__\n",
      "    return self._get_array_with_lazy_actions(i)\n",
      "  File \"/anaconda3/lib/python3.7/site-packages/pynbody/snapshot/__init__.py\", line 357, in _get_array_with_lazy_actions\n",
      "    self.__derive_if_required(name)\n",
      "  File \"/anaconda3/lib/python3.7/site-packages/pynbody/snapshot/__init__.py\", line 372, in __derive_if_required\n",
      "    self._derive_array(name)\n",
      "  File \"/anaconda3/lib/python3.7/site-packages/pynbody/snapshot/__init__.py\", line 1973, in _derive_array\n",
      "    self.base._derive_array(array_name, self._unifamily)\n",
      "  File \"/anaconda3/lib/python3.7/site-packages/pynbody/snapshot/__init__.py\", line 1502, in _derive_array\n",
      "    result = fn(self[fam])\n",
      "  File \"/anaconda3/lib/python3.7/site-packages/pynbody/sph/__init__.py\", line 137, in smooth\n",
      "    self.kdtree.populate('hsm', config['sph']['smooth-particles'])\n",
      "  File \"/anaconda3/lib/python3.7/site-packages/pynbody/sph/kdtree.py\", line 118, in populate\n",
      "    smx = kdmain.nn_start(self.kdtree, int(nn), self.boxsize)\n",
      "ValueError: Number of smoothing particles exceeds number of particles in tree\n",
      "\n",
      "Exception in thread Thread-24:\n",
      "Traceback (most recent call last):\n",
      "  File \"/anaconda3/lib/python3.7/threading.py\", line 917, in _bootstrap_inner\n",
      "    self.run()\n",
      "  File \"/anaconda3/lib/python3.7/threading.py\", line 865, in run\n",
      "    self._target(*self._args, **self._kwargs)\n",
      "  File \"/anaconda3/lib/python3.7/site-packages/pynbody/sph/__init__.py\", line 440, in bridge\n",
      "    X = fn(*args[1:], **kwargs)\n",
      "  File \"/anaconda3/lib/python3.7/site-packages/pynbody/sph/__init__.py\", line 572, in _render_image\n",
      "    snap_proxy[arname] = snap[arname]\n",
      "  File \"/anaconda3/lib/python3.7/site-packages/pynbody/snapshot/__init__.py\", line 264, in __getitem__\n",
      "    return self._get_array_with_lazy_actions(i)\n",
      "  File \"/anaconda3/lib/python3.7/site-packages/pynbody/snapshot/__init__.py\", line 357, in _get_array_with_lazy_actions\n",
      "    self.__derive_if_required(name)\n",
      "  File \"/anaconda3/lib/python3.7/site-packages/pynbody/snapshot/__init__.py\", line 372, in __derive_if_required\n",
      "    self._derive_array(name)\n",
      "  File \"/anaconda3/lib/python3.7/site-packages/pynbody/snapshot/__init__.py\", line 1973, in _derive_array\n",
      "    self.base._derive_array(array_name, self._unifamily)\n",
      "  File \"/anaconda3/lib/python3.7/site-packages/pynbody/snapshot/__init__.py\", line 1502, in _derive_array\n",
      "    result = fn(self[fam])\n",
      "  File \"/anaconda3/lib/python3.7/site-packages/pynbody/sph/__init__.py\", line 137, in smooth\n",
      "    self.kdtree.populate('hsm', config['sph']['smooth-particles'])\n",
      "  File \"/anaconda3/lib/python3.7/site-packages/pynbody/sph/kdtree.py\", line 118, in populate\n",
      "    smx = kdmain.nn_start(self.kdtree, int(nn), self.boxsize)\n",
      "ValueError: Number of smoothing particles exceeds number of particles in tree\n",
      "\n",
      "Exception in thread Thread-25:\n",
      "Traceback (most recent call last):\n",
      "  File \"/anaconda3/lib/python3.7/threading.py\", line 917, in _bootstrap_inner\n",
      "    self.run()\n",
      "  File \"/anaconda3/lib/python3.7/threading.py\", line 865, in run\n",
      "    self._target(*self._args, **self._kwargs)\n",
      "  File \"/anaconda3/lib/python3.7/site-packages/pynbody/sph/__init__.py\", line 440, in bridge\n",
      "    X = fn(*args[1:], **kwargs)\n",
      "  File \"/anaconda3/lib/python3.7/site-packages/pynbody/sph/__init__.py\", line 572, in _render_image\n",
      "    snap_proxy[arname] = snap[arname]\n",
      "  File \"/anaconda3/lib/python3.7/site-packages/pynbody/snapshot/__init__.py\", line 264, in __getitem__\n",
      "    return self._get_array_with_lazy_actions(i)\n",
      "  File \"/anaconda3/lib/python3.7/site-packages/pynbody/snapshot/__init__.py\", line 357, in _get_array_with_lazy_actions\n",
      "    self.__derive_if_required(name)\n",
      "  File \"/anaconda3/lib/python3.7/site-packages/pynbody/snapshot/__init__.py\", line 372, in __derive_if_required\n",
      "    self._derive_array(name)\n",
      "  File \"/anaconda3/lib/python3.7/site-packages/pynbody/snapshot/__init__.py\", line 1973, in _derive_array\n",
      "    self.base._derive_array(array_name, self._unifamily)\n",
      "  File \"/anaconda3/lib/python3.7/site-packages/pynbody/snapshot/__init__.py\", line 1502, in _derive_array\n",
      "    result = fn(self[fam])\n",
      "  File \"/anaconda3/lib/python3.7/site-packages/pynbody/sph/__init__.py\", line 137, in smooth\n",
      "    self.kdtree.populate('hsm', config['sph']['smooth-particles'])\n",
      "  File \"/anaconda3/lib/python3.7/site-packages/pynbody/sph/kdtree.py\", line 118, in populate\n",
      "    smx = kdmain.nn_start(self.kdtree, int(nn), self.boxsize)\n",
      "ValueError: Number of smoothing particles exceeds number of particles in tree\n",
      "\n",
      "Exception in thread Thread-27:\n",
      "Traceback (most recent call last):\n",
      "  File \"/anaconda3/lib/python3.7/threading.py\", line 917, in _bootstrap_inner\n",
      "    self.run()\n",
      "  File \"/anaconda3/lib/python3.7/threading.py\", line 865, in run\n",
      "    self._target(*self._args, **self._kwargs)\n",
      "  File \"/anaconda3/lib/python3.7/site-packages/pynbody/sph/__init__.py\", line 440, in bridge\n",
      "    X = fn(*args[1:], **kwargs)\n",
      "  File \"/anaconda3/lib/python3.7/site-packages/pynbody/sph/__init__.py\", line 572, in _render_image\n",
      "    snap_proxy[arname] = snap[arname]\n",
      "  File \"/anaconda3/lib/python3.7/site-packages/pynbody/snapshot/__init__.py\", line 264, in __getitem__\n",
      "    return self._get_array_with_lazy_actions(i)\n",
      "  File \"/anaconda3/lib/python3.7/site-packages/pynbody/snapshot/__init__.py\", line 357, in _get_array_with_lazy_actions\n",
      "    self.__derive_if_required(name)\n",
      "  File \"/anaconda3/lib/python3.7/site-packages/pynbody/snapshot/__init__.py\", line 372, in __derive_if_required\n",
      "    self._derive_array(name)\n",
      "  File \"/anaconda3/lib/python3.7/site-packages/pynbody/snapshot/__init__.py\", line 1973, in _derive_array\n",
      "    self.base._derive_array(array_name, self._unifamily)\n",
      "  File \"/anaconda3/lib/python3.7/site-packages/pynbody/snapshot/__init__.py\", line 1502, in _derive_array\n",
      "    result = fn(self[fam])\n",
      "  File \"/anaconda3/lib/python3.7/site-packages/pynbody/sph/__init__.py\", line 137, in smooth\n",
      "    self.kdtree.populate('hsm', config['sph']['smooth-particles'])\n",
      "  File \"/anaconda3/lib/python3.7/site-packages/pynbody/sph/kdtree.py\", line 118, in populate\n",
      "    smx = kdmain.nn_start(self.kdtree, int(nn), self.boxsize)\n",
      "ValueError: Number of smoothing particles exceeds number of particles in tree\n",
      "Exception in thread Thread-26:\n",
      "Traceback (most recent call last):\n",
      "  File \"/anaconda3/lib/python3.7/threading.py\", line 917, in _bootstrap_inner\n",
      "    self.run()\n",
      "  File \"/anaconda3/lib/python3.7/threading.py\", line 865, in run\n",
      "    self._target(*self._args, **self._kwargs)\n",
      "  File \"/anaconda3/lib/python3.7/site-packages/pynbody/sph/__init__.py\", line 440, in bridge\n",
      "    X = fn(*args[1:], **kwargs)\n",
      "  File \"/anaconda3/lib/python3.7/site-packages/pynbody/sph/__init__.py\", line 572, in _render_image\n",
      "    snap_proxy[arname] = snap[arname]\n",
      "  File \"/anaconda3/lib/python3.7/site-packages/pynbody/snapshot/__init__.py\", line 264, in __getitem__\n",
      "    return self._get_array_with_lazy_actions(i)\n",
      "  File \"/anaconda3/lib/python3.7/site-packages/pynbody/snapshot/__init__.py\", line 357, in _get_array_with_lazy_actions\n",
      "    self.__derive_if_required(name)\n",
      "  File \"/anaconda3/lib/python3.7/site-packages/pynbody/snapshot/__init__.py\", line 372, in __derive_if_required\n",
      "    self._derive_array(name)\n",
      "  File \"/anaconda3/lib/python3.7/site-packages/pynbody/snapshot/__init__.py\", line 1973, in _derive_array\n",
      "    self.base._derive_array(array_name, self._unifamily)\n",
      "  File \"/anaconda3/lib/python3.7/site-packages/pynbody/snapshot/__init__.py\", line 1502, in _derive_array\n",
      "    result = fn(self[fam])\n",
      "  File \"/anaconda3/lib/python3.7/site-packages/pynbody/sph/__init__.py\", line 137, in smooth\n",
      "    self.kdtree.populate('hsm', config['sph']['smooth-particles'])\n",
      "  File \"/anaconda3/lib/python3.7/site-packages/pynbody/sph/kdtree.py\", line 118, in populate\n",
      "    smx = kdmain.nn_start(self.kdtree, int(nn), self.boxsize)\n",
      "ValueError: Number of smoothing particles exceeds number of particles in tree\n",
      "\n",
      "\n"
     ]
    },
    {
     "ename": "RuntimeError",
     "evalue": "There was a problem with the multi-threaded image render. Try running again with threaded=False to debug the underlying error.",
     "output_type": "error",
     "traceback": [
      "\u001b[0;31m------------------------------------------------------------\u001b[0m",
      "\u001b[0;31mRuntimeError\u001b[0m               Traceback (most recent call last)",
      "\u001b[0;32m<ipython-input-4-cd64f9ae9564>\u001b[0m in \u001b[0;36m<module>\u001b[0;34m\u001b[0m\n\u001b[1;32m      4\u001b[0m \u001b[0ms\u001b[0m \u001b[0;34m=\u001b[0m \u001b[0mpynbody\u001b[0m\u001b[0;34m.\u001b[0m\u001b[0mload\u001b[0m\u001b[0;34m(\u001b[0m\u001b[0;34m'cube300-b.red.000070'\u001b[0m\u001b[0;34m)\u001b[0m\u001b[0;34m\u001b[0m\u001b[0;34m\u001b[0m\u001b[0m\n\u001b[1;32m      5\u001b[0m \u001b[0ms\u001b[0m\u001b[0;34m.\u001b[0m\u001b[0mphysical_units\u001b[0m\u001b[0;34m(\u001b[0m\u001b[0;34m)\u001b[0m\u001b[0;34m\u001b[0m\u001b[0;34m\u001b[0m\u001b[0m\n\u001b[0;32m----> 6\u001b[0;31m \u001b[0msph\u001b[0m\u001b[0;34m.\u001b[0m\u001b[0mimage\u001b[0m\u001b[0;34m(\u001b[0m\u001b[0ms\u001b[0m\u001b[0;34m.\u001b[0m\u001b[0mg\u001b[0m\u001b[0;34m,\u001b[0m\u001b[0mqty\u001b[0m\u001b[0;34m=\u001b[0m\u001b[0;34m\"temp\"\u001b[0m\u001b[0;34m,\u001b[0m\u001b[0mwidth\u001b[0m\u001b[0;34m=\u001b[0m\u001b[0;36m50\u001b[0m\u001b[0;34m,\u001b[0m\u001b[0mcmap\u001b[0m\u001b[0;34m=\u001b[0m\u001b[0;34m\"YlOrRd\"\u001b[0m\u001b[0;34m,\u001b[0m \u001b[0mdenoise\u001b[0m\u001b[0;34m=\u001b[0m\u001b[0;32mTrue\u001b[0m\u001b[0;34m,\u001b[0m\u001b[0mapproximate_fast\u001b[0m\u001b[0;34m=\u001b[0m\u001b[0;32mFalse\u001b[0m\u001b[0;34m)\u001b[0m\u001b[0;34m\u001b[0m\u001b[0;34m\u001b[0m\u001b[0m\n\u001b[0m",
      "\u001b[0;32m/anaconda3/lib/python3.7/site-packages/pynbody/plot/sph.py\u001b[0m in \u001b[0;36mimage\u001b[0;34m(sim, qty, width, resolution, units, log, vmin, vmax, av_z, filename, z_camera, clear, cmap, title, qtytitle, show_cbar, subplot, noplot, ret_im, fill_nan, fill_val, linthresh, **kwargs)\u001b[0m\n\u001b[1;32m    421\u001b[0m     \u001b[0;32melse\u001b[0m\u001b[0;34m:\u001b[0m\u001b[0;34m\u001b[0m\u001b[0;34m\u001b[0m\u001b[0m\n\u001b[1;32m    422\u001b[0m         im = sph.render_image(sim, qty, width / 2, resolution, out_units=units,\n\u001b[0;32m--> 423\u001b[0;31m                               kernel=kernel,  z_camera=z_camera, **kwargs)\n\u001b[0m\u001b[1;32m    424\u001b[0m \u001b[0;34m\u001b[0m\u001b[0m\n\u001b[1;32m    425\u001b[0m     \u001b[0;32mif\u001b[0m \u001b[0mfill_nan\u001b[0m\u001b[0;34m:\u001b[0m\u001b[0;34m\u001b[0m\u001b[0;34m\u001b[0m\u001b[0m\n",
      "\u001b[0;32m/anaconda3/lib/python3.7/site-packages/pynbody/sph/__init__.py\u001b[0m in \u001b[0;36mrender_image\u001b[0;34m(snap, qty, x2, nx, y2, ny, x1, y1, z_plane, out_units, xy_units, kernel, z_camera, smooth, smooth_in_pixels, force_quiet, approximate_fast, threaded, denoise)\u001b[0m\n\u001b[1;32m    531\u001b[0m                                     \u001b[0mout_units\u001b[0m\u001b[0;34m,\u001b[0m \u001b[0mxy_units\u001b[0m\u001b[0;34m,\u001b[0m \u001b[0mkernel\u001b[0m\u001b[0;34m,\u001b[0m \u001b[0mz_camera\u001b[0m\u001b[0;34m,\u001b[0m \u001b[0msmooth\u001b[0m\u001b[0;34m,\u001b[0m\u001b[0;34m\u001b[0m\u001b[0;34m\u001b[0m\u001b[0m\n\u001b[1;32m    532\u001b[0m                                     \u001b[0msmooth_in_pixels\u001b[0m\u001b[0;34m,\u001b[0m \u001b[0;32mTrue\u001b[0m\u001b[0;34m,\u001b[0m\u001b[0;34m\u001b[0m\u001b[0;34m\u001b[0m\u001b[0m\n\u001b[0;32m--> 533\u001b[0;31m                                     num_threads=threaded)\n\u001b[0m\u001b[1;32m    534\u001b[0m     \u001b[0;32melse\u001b[0m\u001b[0;34m:\u001b[0m\u001b[0;34m\u001b[0m\u001b[0;34m\u001b[0m\u001b[0m\n\u001b[1;32m    535\u001b[0m         im = base_renderer(snap, qty, x2, nx, y2, ny, x1, y1, z_plane,\n",
      "\u001b[0;32m/anaconda3/lib/python3.7/site-packages/pynbody/sph/__init__.py\u001b[0m in \u001b[0;36m_threaded_render_image\u001b[0;34m(fn, s, *args, **kwargs)\u001b[0m\n\u001b[1;32m    404\u001b[0m     \u001b[0;31m# Each output is a 1-element list with a numpy array. Sum them.\u001b[0m\u001b[0;34m\u001b[0m\u001b[0;34m\u001b[0m\u001b[0;34m\u001b[0m\u001b[0m\n\u001b[1;32m    405\u001b[0m     \u001b[0;32mif\u001b[0m \u001b[0many\u001b[0m\u001b[0;34m(\u001b[0m\u001b[0;34m[\u001b[0m\u001b[0mlen\u001b[0m\u001b[0;34m(\u001b[0m\u001b[0mo\u001b[0m\u001b[0;34m)\u001b[0m\u001b[0;34m==\u001b[0m\u001b[0;36m0\u001b[0m \u001b[0;32mfor\u001b[0m \u001b[0mo\u001b[0m \u001b[0;32min\u001b[0m \u001b[0moutputs\u001b[0m\u001b[0;34m]\u001b[0m\u001b[0;34m)\u001b[0m\u001b[0;34m:\u001b[0m\u001b[0;34m\u001b[0m\u001b[0;34m\u001b[0m\u001b[0m\n\u001b[0;32m--> 406\u001b[0;31m         \u001b[0;32mraise\u001b[0m \u001b[0mRuntimeError\u001b[0m\u001b[0;34m(\u001b[0m\u001b[0;34m\"There was a problem with the multi-threaded image render. Try running again with threaded=False to debug the underlying error.\"\u001b[0m\u001b[0;34m)\u001b[0m\u001b[0;34m\u001b[0m\u001b[0;34m\u001b[0m\u001b[0m\n\u001b[0m\u001b[1;32m    407\u001b[0m     \u001b[0;32mreturn\u001b[0m \u001b[0msum\u001b[0m\u001b[0;34m(\u001b[0m\u001b[0;34m[\u001b[0m\u001b[0mo\u001b[0m\u001b[0;34m[\u001b[0m\u001b[0;36m0\u001b[0m\u001b[0;34m]\u001b[0m \u001b[0;32mfor\u001b[0m \u001b[0mo\u001b[0m \u001b[0;32min\u001b[0m \u001b[0moutputs\u001b[0m\u001b[0;34m]\u001b[0m\u001b[0;34m)\u001b[0m\u001b[0;34m\u001b[0m\u001b[0;34m\u001b[0m\u001b[0m\n\u001b[1;32m    408\u001b[0m \u001b[0;34m\u001b[0m\u001b[0m\n",
      "\u001b[0;31mRuntimeError\u001b[0m: There was a problem with the multi-threaded image render. Try running again with threaded=False to debug the underlying error."
     ]
    }
   ],
   "source": [
    "import pynbody\n",
    "import pynbody.plot.sph as sph\n",
    "import matplotlib.pylab as plt\n",
    "s = pynbody.load('cube300-b.red.000070')\n",
    "s.physical_units()\n",
    "sph.image(s.g,qty=\"temp\",width=50,cmap=\"YlOrRd\", denoise=True,approximate_fast=False)"
   ]
  },
  {
   "cell_type": "code",
   "execution_count": 7,
   "metadata": {},
   "outputs": [
    {
     "ename": "AttributeError",
     "evalue": "'TipsySnap' object has no attribute 'image'",
     "output_type": "error",
     "traceback": [
      "\u001b[0;31m------------------------------------------------------------\u001b[0m",
      "\u001b[0;31mAttributeError\u001b[0m             Traceback (most recent call last)",
      "\u001b[0;32m<ipython-input-7-cf7547c16c5d>\u001b[0m in \u001b[0;36m<module>\u001b[0;34m\u001b[0m\n\u001b[1;32m      4\u001b[0m \u001b[0ms\u001b[0m \u001b[0;34m=\u001b[0m \u001b[0mpynbody\u001b[0m\u001b[0;34m.\u001b[0m\u001b[0mload\u001b[0m\u001b[0;34m(\u001b[0m\u001b[0;34m'cube300-b.red.000070'\u001b[0m\u001b[0;34m)\u001b[0m\u001b[0;34m\u001b[0m\u001b[0;34m\u001b[0m\u001b[0m\n\u001b[1;32m      5\u001b[0m \u001b[0ms\u001b[0m\u001b[0;34m.\u001b[0m\u001b[0mphysical_units\u001b[0m\u001b[0;34m(\u001b[0m\u001b[0;34m)\u001b[0m\u001b[0;34m\u001b[0m\u001b[0;34m\u001b[0m\u001b[0m\n\u001b[0;32m----> 6\u001b[0;31m \u001b[0mi\u001b[0m\u001b[0;34m=\u001b[0m\u001b[0ms\u001b[0m\u001b[0;34m.\u001b[0m\u001b[0mimage\u001b[0m\u001b[0;34m(\u001b[0m\u001b[0;34m)\u001b[0m\u001b[0;34m\u001b[0m\u001b[0;34m\u001b[0m\u001b[0m\n\u001b[0m\u001b[1;32m      7\u001b[0m \u001b[0msph\u001b[0m\u001b[0;34m.\u001b[0m\u001b[0mimage\u001b[0m\u001b[0;34m(\u001b[0m\u001b[0mi\u001b[0m\u001b[0;34m[\u001b[0m\u001b[0;36m1\u001b[0m\u001b[0;34m]\u001b[0m\u001b[0;34m.\u001b[0m\u001b[0mg\u001b[0m\u001b[0;34m,\u001b[0m\u001b[0mwidth\u001b[0m\u001b[0;34m=\u001b[0m\u001b[0;36m100\u001b[0m\u001b[0;34m,\u001b[0m\u001b[0mcmap\u001b[0m\u001b[0;34m=\u001b[0m\u001b[0;34m\"Greys\"\u001b[0m\u001b[0;34m)\u001b[0m\u001b[0;34m\u001b[0m\u001b[0;34m\u001b[0m\u001b[0m\n",
      "\u001b[0;32m/anaconda3/lib/python3.7/site-packages/pynbody/snapshot/__init__.py\u001b[0m in \u001b[0;36m__getattr__\u001b[0;34m(self, name)\u001b[0m\n\u001b[1;32m    443\u001b[0m \u001b[0;34m\u001b[0m\u001b[0m\n\u001b[1;32m    444\u001b[0m         raise AttributeError(\"%r object has no attribute %r\" % (\n\u001b[0;32m--> 445\u001b[0;31m             type(self).__name__, name))\n\u001b[0m\u001b[1;32m    446\u001b[0m \u001b[0;34m\u001b[0m\u001b[0m\n\u001b[1;32m    447\u001b[0m     \u001b[0;32mdef\u001b[0m \u001b[0m__setattr__\u001b[0m\u001b[0;34m(\u001b[0m\u001b[0mself\u001b[0m\u001b[0;34m,\u001b[0m \u001b[0mname\u001b[0m\u001b[0;34m,\u001b[0m \u001b[0mval\u001b[0m\u001b[0;34m)\u001b[0m\u001b[0;34m:\u001b[0m\u001b[0;34m\u001b[0m\u001b[0;34m\u001b[0m\u001b[0m\n",
      "\u001b[0;31mAttributeError\u001b[0m: 'TipsySnap' object has no attribute 'image'"
     ]
    }
   ],
   "source": [
    "import pynbody\n",
    "import pynbody.plot.sph as sph\n",
    "import matplotlib.pylab as plt\n",
    "s = pynbody.load('cube300-b.red.000070')\n",
    "s.physical_units()\n",
    "i=s.image()\n",
    "sph.image(i[1].g,width=100,cmap=\"Greys\")"
   ]
  },
  {
   "cell_type": "code",
   "execution_count": 8,
   "metadata": {},
   "outputs": [],
   "source": [
    "import pynbody\n",
    "import pynbody.plot.sph as sph\n",
    "import matplotlib.pylab as plt\n",
    "s = pynbody.load('cube300-b.red.000070')"
   ]
  },
  {
   "cell_type": "code",
   "execution_count": 9,
   "metadata": {},
   "outputs": [
    {
     "ename": "NameError",
     "evalue": "name 'x' is not defined",
     "output_type": "error",
     "traceback": [
      "\u001b[0;31m------------------------------------------------------------\u001b[0m",
      "\u001b[0;31mNameError\u001b[0m                  Traceback (most recent call last)",
      "\u001b[0;32m<ipython-input-9-915431df2be4>\u001b[0m in \u001b[0;36m<module>\u001b[0;34m\u001b[0m\n\u001b[0;32m----> 1\u001b[0;31m s[x\n\u001b[0m\u001b[1;32m      2\u001b[0m ]\n",
      "\u001b[0;31mNameError\u001b[0m: name 'x' is not defined"
     ]
    }
   ],
   "source": [
    "s[x\n",
    "]"
   ]
  },
  {
   "cell_type": "code",
   "execution_count": 10,
   "metadata": {},
   "outputs": [
    {
     "data": {
      "text/plain": [
       "<SimSnap \"cube300-b.red.000070::dm\" len=110592>"
      ]
     },
     "execution_count": 10,
     "metadata": {},
     "output_type": "execute_result"
    }
   ],
   "source": [
    "s.dm"
   ]
  },
  {
   "cell_type": "code",
   "execution_count": 11,
   "metadata": {},
   "outputs": [
    {
     "data": {
      "text/plain": [
       "<SimSnap \"cube300-b.red.000070::gas\" len=0>"
      ]
     },
     "execution_count": 11,
     "metadata": {},
     "output_type": "execute_result"
    }
   ],
   "source": [
    "s.g"
   ]
  },
  {
   "cell_type": "code",
   "execution_count": 12,
   "metadata": {},
   "outputs": [
    {
     "data": {
      "text/plain": [
       "<SimSnap \"cube300-b.red.000070::star\" len=0>"
      ]
     },
     "execution_count": 12,
     "metadata": {},
     "output_type": "execute_result"
    }
   ],
   "source": [
    "s.s"
   ]
  },
  {
   "cell_type": "code",
   "execution_count": 13,
   "metadata": {},
   "outputs": [
    {
     "data": {
      "text/plain": [
       "<SimSnap \"cube300-b.red.000070:indexed\" len=4>"
      ]
     },
     "execution_count": 13,
     "metadata": {},
     "output_type": "execute_result"
    }
   ],
   "source": [
    "s[[1,5,100,200]]"
   ]
  },
  {
   "cell_type": "code",
   "execution_count": 14,
   "metadata": {},
   "outputs": [
    {
     "ename": "NameError",
     "evalue": "name 'families' is not defined",
     "output_type": "error",
     "traceback": [
      "\u001b[0;31m------------------------------------------------------------\u001b[0m",
      "\u001b[0;31mNameError\u001b[0m                  Traceback (most recent call last)",
      "\u001b[0;32m<ipython-input-14-6d75e1224803>\u001b[0m in \u001b[0;36m<module>\u001b[0;34m\u001b[0m\n\u001b[0;32m----> 1\u001b[0;31m \u001b[0mfamilies\u001b[0m\u001b[0;34m(\u001b[0m\u001b[0ms\u001b[0m\u001b[0;34m)\u001b[0m\u001b[0;34m\u001b[0m\u001b[0;34m\u001b[0m\u001b[0m\n\u001b[0m",
      "\u001b[0;31mNameError\u001b[0m: name 'families' is not defined"
     ]
    }
   ],
   "source": [
    "families(s)"
   ]
  },
  {
   "cell_type": "code",
   "execution_count": 15,
   "metadata": {},
   "outputs": [
    {
     "ename": "NameError",
     "evalue": "name 'keys' is not defined",
     "output_type": "error",
     "traceback": [
      "\u001b[0;31m------------------------------------------------------------\u001b[0m",
      "\u001b[0;31mNameError\u001b[0m                  Traceback (most recent call last)",
      "\u001b[0;32m<ipython-input-15-0e627141de95>\u001b[0m in \u001b[0;36m<module>\u001b[0;34m\u001b[0m\n\u001b[0;32m----> 1\u001b[0;31m \u001b[0mkeys\u001b[0m\u001b[0;34m(\u001b[0m\u001b[0ms\u001b[0m\u001b[0;34m)\u001b[0m\u001b[0;34m\u001b[0m\u001b[0;34m\u001b[0m\u001b[0m\n\u001b[0m",
      "\u001b[0;31mNameError\u001b[0m: name 'keys' is not defined"
     ]
    }
   ],
   "source": [
    "keys(s)"
   ]
  },
  {
   "cell_type": "code",
   "execution_count": 16,
   "metadata": {},
   "outputs": [
    {
     "ename": "NameError",
     "evalue": "name 'values' is not defined",
     "output_type": "error",
     "traceback": [
      "\u001b[0;31m------------------------------------------------------------\u001b[0m",
      "\u001b[0;31mNameError\u001b[0m                  Traceback (most recent call last)",
      "\u001b[0;32m<ipython-input-16-560a71ca5655>\u001b[0m in \u001b[0;36m<module>\u001b[0;34m\u001b[0m\n\u001b[0;32m----> 1\u001b[0;31m values(s\n\u001b[0m\u001b[1;32m      2\u001b[0m     )\n",
      "\u001b[0;31mNameError\u001b[0m: name 'values' is not defined"
     ]
    }
   ],
   "source": [
    "values(s\n",
    "    )"
   ]
  },
  {
   "cell_type": "code",
   "execution_count": 17,
   "metadata": {},
   "outputs": [
    {
     "ename": "NameError",
     "evalue": "name 'physical_units' is not defined",
     "output_type": "error",
     "traceback": [
      "\u001b[0;31m------------------------------------------------------------\u001b[0m",
      "\u001b[0;31mNameError\u001b[0m                  Traceback (most recent call last)",
      "\u001b[0;32m<ipython-input-17-636ae18b0f2c>\u001b[0m in \u001b[0;36m<module>\u001b[0;34m\u001b[0m\n\u001b[0;32m----> 1\u001b[0;31m physical_units(s\n\u001b[0m\u001b[1;32m      2\u001b[0m             )\n",
      "\u001b[0;31mNameError\u001b[0m: name 'physical_units' is not defined"
     ]
    }
   ],
   "source": [
    "physical_units(s\n",
    "            )"
   ]
  },
  {
   "cell_type": "code",
   "execution_count": 18,
   "metadata": {},
   "outputs": [],
   "source": [
    "s.physical_units()"
   ]
  },
  {
   "cell_type": "code",
   "execution_count": 19,
   "metadata": {},
   "outputs": [
    {
     "data": {
      "text/plain": [
       "[]"
      ]
     },
     "execution_count": 19,
     "metadata": {},
     "output_type": "execute_result"
    }
   ],
   "source": [
    "s.values()"
   ]
  },
  {
   "cell_type": "code",
   "execution_count": 20,
   "metadata": {},
   "outputs": [
    {
     "data": {
      "text/plain": [
       "[]"
      ]
     },
     "execution_count": 20,
     "metadata": {},
     "output_type": "execute_result"
    }
   ],
   "source": [
    "s.keys()"
   ]
  },
  {
   "cell_type": "code",
   "execution_count": 21,
   "metadata": {},
   "outputs": [
    {
     "ename": "AttributeError",
     "evalue": "'str' object has no attribute 'sim'",
     "output_type": "error",
     "traceback": [
      "\u001b[0;31m------------------------------------------------------------\u001b[0m",
      "\u001b[0;31mAttributeError\u001b[0m             Traceback (most recent call last)",
      "\u001b[0;32m<ipython-input-21-85b3d9c34294>\u001b[0m in \u001b[0;36m<module>\u001b[0;34m\u001b[0m\n\u001b[0;32m----> 1\u001b[0;31m \u001b[0mt\u001b[0m \u001b[0;34m=\u001b[0m \u001b[0mpynbody\u001b[0m\u001b[0;34m.\u001b[0m\u001b[0marray\u001b[0m\u001b[0;34m.\u001b[0m\u001b[0mSimArray\u001b[0m\u001b[0;34m.\u001b[0m\u001b[0mwrite\u001b[0m\u001b[0;34m(\u001b[0m\u001b[0;34m'cube300-b.red.000070'\u001b[0m\u001b[0;34m)\u001b[0m\u001b[0;34m\u001b[0m\u001b[0;34m\u001b[0m\u001b[0m\n\u001b[0m",
      "\u001b[0;32m/anaconda3/lib/python3.7/site-packages/pynbody/array.py\u001b[0m in \u001b[0;36mwrite\u001b[0;34m(self, **kwargs)\u001b[0m\n\u001b[1;32m    647\u001b[0m         \"\"\"\n\u001b[1;32m    648\u001b[0m \u001b[0;34m\u001b[0m\u001b[0m\n\u001b[0;32m--> 649\u001b[0;31m         \u001b[0;32mif\u001b[0m \u001b[0mself\u001b[0m\u001b[0;34m.\u001b[0m\u001b[0msim\u001b[0m \u001b[0;32mand\u001b[0m \u001b[0mself\u001b[0m\u001b[0;34m.\u001b[0m\u001b[0mname\u001b[0m\u001b[0;34m:\u001b[0m\u001b[0;34m\u001b[0m\u001b[0;34m\u001b[0m\u001b[0m\n\u001b[0m\u001b[1;32m    650\u001b[0m             \u001b[0mself\u001b[0m\u001b[0;34m.\u001b[0m\u001b[0msim\u001b[0m\u001b[0;34m.\u001b[0m\u001b[0mwrite_array\u001b[0m\u001b[0;34m(\u001b[0m\u001b[0mself\u001b[0m\u001b[0;34m.\u001b[0m\u001b[0mname\u001b[0m\u001b[0;34m,\u001b[0m \u001b[0mfam\u001b[0m\u001b[0;34m=\u001b[0m\u001b[0mself\u001b[0m\u001b[0;34m.\u001b[0m\u001b[0mfamily\u001b[0m\u001b[0;34m,\u001b[0m \u001b[0;34m**\u001b[0m\u001b[0mkwargs\u001b[0m\u001b[0;34m)\u001b[0m\u001b[0;34m\u001b[0m\u001b[0;34m\u001b[0m\u001b[0m\n\u001b[1;32m    651\u001b[0m         \u001b[0;32melse\u001b[0m\u001b[0;34m:\u001b[0m\u001b[0;34m\u001b[0m\u001b[0;34m\u001b[0m\u001b[0m\n",
      "\u001b[0;31mAttributeError\u001b[0m: 'str' object has no attribute 'sim'"
     ]
    }
   ],
   "source": [
    "t = pynbody.array.SimArray.write('cube300-b.red.000070')"
   ]
  },
  {
   "cell_type": "code",
   "execution_count": 22,
   "metadata": {},
   "outputs": [
    {
     "ename": "AttributeError",
     "evalue": "'TipsySnap' object has no attribute 'sim'",
     "output_type": "error",
     "traceback": [
      "\u001b[0;31m------------------------------------------------------------\u001b[0m",
      "\u001b[0;31mAttributeError\u001b[0m             Traceback (most recent call last)",
      "\u001b[0;32m<ipython-input-22-d733a3c4e79b>\u001b[0m in \u001b[0;36m<module>\u001b[0;34m\u001b[0m\n\u001b[0;32m----> 1\u001b[0;31m \u001b[0mpynbody\u001b[0m\u001b[0;34m.\u001b[0m\u001b[0marray\u001b[0m\u001b[0;34m.\u001b[0m\u001b[0mSimArray\u001b[0m\u001b[0;34m.\u001b[0m\u001b[0mwrite\u001b[0m\u001b[0;34m(\u001b[0m\u001b[0ms\u001b[0m\u001b[0;34m)\u001b[0m\u001b[0;34m\u001b[0m\u001b[0;34m\u001b[0m\u001b[0m\n\u001b[0m",
      "\u001b[0;32m/anaconda3/lib/python3.7/site-packages/pynbody/array.py\u001b[0m in \u001b[0;36mwrite\u001b[0;34m(self, **kwargs)\u001b[0m\n\u001b[1;32m    647\u001b[0m         \"\"\"\n\u001b[1;32m    648\u001b[0m \u001b[0;34m\u001b[0m\u001b[0m\n\u001b[0;32m--> 649\u001b[0;31m         \u001b[0;32mif\u001b[0m \u001b[0mself\u001b[0m\u001b[0;34m.\u001b[0m\u001b[0msim\u001b[0m \u001b[0;32mand\u001b[0m \u001b[0mself\u001b[0m\u001b[0;34m.\u001b[0m\u001b[0mname\u001b[0m\u001b[0;34m:\u001b[0m\u001b[0;34m\u001b[0m\u001b[0;34m\u001b[0m\u001b[0m\n\u001b[0m\u001b[1;32m    650\u001b[0m             \u001b[0mself\u001b[0m\u001b[0;34m.\u001b[0m\u001b[0msim\u001b[0m\u001b[0;34m.\u001b[0m\u001b[0mwrite_array\u001b[0m\u001b[0;34m(\u001b[0m\u001b[0mself\u001b[0m\u001b[0;34m.\u001b[0m\u001b[0mname\u001b[0m\u001b[0;34m,\u001b[0m \u001b[0mfam\u001b[0m\u001b[0;34m=\u001b[0m\u001b[0mself\u001b[0m\u001b[0;34m.\u001b[0m\u001b[0mfamily\u001b[0m\u001b[0;34m,\u001b[0m \u001b[0;34m**\u001b[0m\u001b[0mkwargs\u001b[0m\u001b[0;34m)\u001b[0m\u001b[0;34m\u001b[0m\u001b[0;34m\u001b[0m\u001b[0m\n\u001b[1;32m    651\u001b[0m         \u001b[0;32melse\u001b[0m\u001b[0;34m:\u001b[0m\u001b[0;34m\u001b[0m\u001b[0;34m\u001b[0m\u001b[0m\n",
      "\u001b[0;32m/anaconda3/lib/python3.7/site-packages/pynbody/snapshot/__init__.py\u001b[0m in \u001b[0;36m__getattr__\u001b[0;34m(self, name)\u001b[0m\n\u001b[1;32m    443\u001b[0m \u001b[0;34m\u001b[0m\u001b[0m\n\u001b[1;32m    444\u001b[0m         raise AttributeError(\"%r object has no attribute %r\" % (\n\u001b[0;32m--> 445\u001b[0;31m             type(self).__name__, name))\n\u001b[0m\u001b[1;32m    446\u001b[0m \u001b[0;34m\u001b[0m\u001b[0m\n\u001b[1;32m    447\u001b[0m     \u001b[0;32mdef\u001b[0m \u001b[0m__setattr__\u001b[0m\u001b[0;34m(\u001b[0m\u001b[0mself\u001b[0m\u001b[0;34m,\u001b[0m \u001b[0mname\u001b[0m\u001b[0;34m,\u001b[0m \u001b[0mval\u001b[0m\u001b[0;34m)\u001b[0m\u001b[0;34m:\u001b[0m\u001b[0;34m\u001b[0m\u001b[0;34m\u001b[0m\u001b[0m\n",
      "\u001b[0;31mAttributeError\u001b[0m: 'TipsySnap' object has no attribute 'sim'"
     ]
    }
   ],
   "source": [
    "pynbody.array.SimArray.write(s)"
   ]
  },
  {
   "cell_type": "code",
   "execution_count": 25,
   "metadata": {},
   "outputs": [
    {
     "ename": "NameError",
     "evalue": "name 'write_array' is not defined",
     "output_type": "error",
     "traceback": [
      "\u001b[0;31m------------------------------------------------------------\u001b[0m",
      "\u001b[0;31mNameError\u001b[0m                  Traceback (most recent call last)",
      "\u001b[0;32m<ipython-input-25-fc0892eb1553>\u001b[0m in \u001b[0;36m<module>\u001b[0;34m\u001b[0m\n\u001b[1;32m      1\u001b[0m \u001b[0;34m\u001b[0m\u001b[0m\n\u001b[0;32m----> 2\u001b[0;31m \u001b[0mu\u001b[0m\u001b[0;34m=\u001b[0m\u001b[0mwrite_array\u001b[0m\u001b[0;34m(\u001b[0m\u001b[0mdm\u001b[0m\u001b[0;34m,\u001b[0m \u001b[0mfam\u001b[0m\u001b[0;34m=\u001b[0m\u001b[0;32mNone\u001b[0m\u001b[0;34m,\u001b[0m \u001b[0moverwrite\u001b[0m\u001b[0;34m=\u001b[0m\u001b[0;32mFalse\u001b[0m\u001b[0;34m,\u001b[0m \u001b[0;34m**\u001b[0m\u001b[0mkwargs\u001b[0m\u001b[0;34m)\u001b[0m\u001b[0;34m\u001b[0m\u001b[0;34m\u001b[0m\u001b[0m\n\u001b[0m",
      "\u001b[0;31mNameError\u001b[0m: name 'write_array' is not defined"
     ]
    }
   ],
   "source": [
    "\n",
    "u=write_array(dm, fam=None, overwrite=False, **kwargs)"
   ]
  },
  {
   "cell_type": "code",
   "execution_count": 26,
   "metadata": {},
   "outputs": [
    {
     "data": {
      "text/plain": [
       "SimArray([[-0.48903096, -0.49525842,  0.49157596],\n",
       "          [-0.4625141 , -0.49718449,  0.49106818],\n",
       "          [-0.43450087, -0.49541503,  0.49557197],\n",
       "          ...,\n",
       "          [ 0.43614966,  0.47714052,  0.46325353],\n",
       "          [ 0.46442297,  0.48033723,  0.46499559],\n",
       "          [ 0.48745769,  0.48151788,  0.46338731]], 'kpc')"
      ]
     },
     "execution_count": 26,
     "metadata": {},
     "output_type": "execute_result"
    }
   ],
   "source": [
    ">>> f = pynbody.load('cube300-b.red.000070')\n",
    ">>> f['pos']"
   ]
  },
  {
   "cell_type": "code",
   "execution_count": 30,
   "metadata": {},
   "outputs": [],
   "source": [
    "f['pos'].convert_units('kpc')"
   ]
  },
  {
   "cell_type": "code",
   "execution_count": 31,
   "metadata": {},
   "outputs": [
    {
     "data": {
      "text/plain": [
       "SimArray([[-0.48903096, -0.49525842,  0.49157596],\n",
       "          [-0.4625141 , -0.49718449,  0.49106818],\n",
       "          [-0.43450087, -0.49541503,  0.49557197],\n",
       "          ...,\n",
       "          [ 0.43614966,  0.47714052,  0.46325353],\n",
       "          [ 0.46442297,  0.48033723,  0.46499559],\n",
       "          [ 0.48745769,  0.48151788,  0.46338731]], 'kpc')"
      ]
     },
     "execution_count": 31,
     "metadata": {},
     "output_type": "execute_result"
    }
   ],
   "source": [
    ">>> f = pynbody.load('cube300-b.red.000070')\n",
    ">>> f['pos']"
   ]
  },
  {
   "cell_type": "code",
   "execution_count": 32,
   "metadata": {},
   "outputs": [],
   "source": [
    "f['pos'].convert_units('kpc')"
   ]
  },
  {
   "cell_type": "code",
   "execution_count": 33,
   "metadata": {},
   "outputs": [
    {
     "ename": "NameError",
     "evalue": "name 'SimArray' is not defined",
     "output_type": "error",
     "traceback": [
      "\u001b[0;31m------------------------------------------------------------\u001b[0m",
      "\u001b[0;31mNameError\u001b[0m                  Traceback (most recent call last)",
      "\u001b[0;32m<ipython-input-33-8da7ef142a1b>\u001b[0m in \u001b[0;36m<module>\u001b[0;34m\u001b[0m\n\u001b[0;32m----> 1\u001b[0;31m \u001b[0mx\u001b[0m \u001b[0;34m=\u001b[0m \u001b[0mSimArray\u001b[0m\u001b[0;34m(\u001b[0m\u001b[0;34m[\u001b[0m\u001b[0;36m1\u001b[0m\u001b[0;34m,\u001b[0m\u001b[0;36m2\u001b[0m\u001b[0;34m]\u001b[0m\u001b[0;34m,\u001b[0m \u001b[0;34m\"Msol\"\u001b[0m\u001b[0;34m)\u001b[0m\u001b[0;34m\u001b[0m\u001b[0;34m\u001b[0m\u001b[0m\n\u001b[0m",
      "\u001b[0;31mNameError\u001b[0m: name 'SimArray' is not defined"
     ]
    }
   ],
   "source": [
    "x = SimArray([1,2], \"Msol\")"
   ]
  },
  {
   "cell_type": "code",
   "execution_count": 34,
   "metadata": {},
   "outputs": [
    {
     "data": {
      "text/plain": [
       "SimArray([2.71270005e-06, 2.71270005e-06, 2.71270005e-06, ...,\n",
       "          2.71270005e-06, 2.71270005e-06, 2.71270005e-06], '1.00e+10 Msol')"
      ]
     },
     "execution_count": 34,
     "metadata": {},
     "output_type": "execute_result"
    }
   ],
   "source": [
    "f['mass']"
   ]
  },
  {
   "cell_type": "code",
   "execution_count": 37,
   "metadata": {},
   "outputs": [
    {
     "ename": "KeyError",
     "evalue": "'len'",
     "output_type": "error",
     "traceback": [
      "\u001b[0;31m------------------------------------------------------------\u001b[0m",
      "\u001b[0;31mKeyError\u001b[0m                   Traceback (most recent call last)",
      "\u001b[0;32m<ipython-input-37-43715867c05a>\u001b[0m in \u001b[0;36m<module>\u001b[0;34m\u001b[0m\n\u001b[0;32m----> 1\u001b[0;31m \u001b[0mf\u001b[0m\u001b[0;34m[\u001b[0m\u001b[0;34m'len'\u001b[0m\u001b[0;34m]\u001b[0m\u001b[0;34m\u001b[0m\u001b[0;34m\u001b[0m\u001b[0m\n\u001b[0m",
      "\u001b[0;32m/anaconda3/lib/python3.7/site-packages/pynbody/snapshot/__init__.py\u001b[0m in \u001b[0;36m__getitem__\u001b[0;34m(self, i)\u001b[0m\n\u001b[1;32m    262\u001b[0m \u001b[0;34m\u001b[0m\u001b[0m\n\u001b[1;32m    263\u001b[0m         \u001b[0;32mif\u001b[0m \u001b[0misinstance\u001b[0m\u001b[0;34m(\u001b[0m\u001b[0mi\u001b[0m\u001b[0;34m,\u001b[0m \u001b[0mstr\u001b[0m\u001b[0;34m)\u001b[0m\u001b[0;34m:\u001b[0m\u001b[0;34m\u001b[0m\u001b[0;34m\u001b[0m\u001b[0m\n\u001b[0;32m--> 264\u001b[0;31m             \u001b[0;32mreturn\u001b[0m \u001b[0mself\u001b[0m\u001b[0;34m.\u001b[0m\u001b[0m_get_array_with_lazy_actions\u001b[0m\u001b[0;34m(\u001b[0m\u001b[0mi\u001b[0m\u001b[0;34m)\u001b[0m\u001b[0;34m\u001b[0m\u001b[0;34m\u001b[0m\u001b[0m\n\u001b[0m\u001b[1;32m    265\u001b[0m         \u001b[0;32melif\u001b[0m \u001b[0misinstance\u001b[0m\u001b[0;34m(\u001b[0m\u001b[0mi\u001b[0m\u001b[0;34m,\u001b[0m \u001b[0mslice\u001b[0m\u001b[0;34m)\u001b[0m\u001b[0;34m:\u001b[0m\u001b[0;34m\u001b[0m\u001b[0;34m\u001b[0m\u001b[0m\n\u001b[1;32m    266\u001b[0m             \u001b[0;32mreturn\u001b[0m \u001b[0mSubSnap\u001b[0m\u001b[0;34m(\u001b[0m\u001b[0mself\u001b[0m\u001b[0;34m,\u001b[0m \u001b[0mi\u001b[0m\u001b[0;34m)\u001b[0m\u001b[0;34m\u001b[0m\u001b[0;34m\u001b[0m\u001b[0m\n",
      "\u001b[0;32m/anaconda3/lib/python3.7/site-packages/pynbody/snapshot/__init__.py\u001b[0m in \u001b[0;36m_get_array_with_lazy_actions\u001b[0;34m(self, name)\u001b[0m\n\u001b[1;32m    357\u001b[0m                     \u001b[0mself\u001b[0m\u001b[0;34m.\u001b[0m\u001b[0m__derive_if_required\u001b[0m\u001b[0;34m(\u001b[0m\u001b[0mname\u001b[0m\u001b[0;34m)\u001b[0m\u001b[0;34m\u001b[0m\u001b[0;34m\u001b[0m\u001b[0m\n\u001b[1;32m    358\u001b[0m \u001b[0;34m\u001b[0m\u001b[0m\n\u001b[0;32m--> 359\u001b[0;31m             \u001b[0;32mreturn\u001b[0m \u001b[0mself\u001b[0m\u001b[0;34m.\u001b[0m\u001b[0m_get_array\u001b[0m\u001b[0;34m(\u001b[0m\u001b[0mname\u001b[0m\u001b[0;34m)\u001b[0m\u001b[0;34m\u001b[0m\u001b[0;34m\u001b[0m\u001b[0m\n\u001b[0m\u001b[1;32m    360\u001b[0m \u001b[0;34m\u001b[0m\u001b[0m\n\u001b[1;32m    361\u001b[0m \u001b[0;34m\u001b[0m\u001b[0m\n",
      "\u001b[0;32m/anaconda3/lib/python3.7/site-packages/pynbody/snapshot/__init__.py\u001b[0m in \u001b[0;36m_get_array\u001b[0;34m(self, name, index, always_writable)\u001b[0m\n\u001b[1;32m   1263\u001b[0m         not if the array is flagged as derived by the framework.\"\"\"\n\u001b[1;32m   1264\u001b[0m \u001b[0;34m\u001b[0m\u001b[0m\n\u001b[0;32m-> 1265\u001b[0;31m         \u001b[0mx\u001b[0m \u001b[0;34m=\u001b[0m \u001b[0mself\u001b[0m\u001b[0;34m.\u001b[0m\u001b[0m_arrays\u001b[0m\u001b[0;34m[\u001b[0m\u001b[0mname\u001b[0m\u001b[0;34m]\u001b[0m\u001b[0;34m\u001b[0m\u001b[0;34m\u001b[0m\u001b[0m\n\u001b[0m\u001b[1;32m   1266\u001b[0m         \u001b[0;32mif\u001b[0m \u001b[0mx\u001b[0m\u001b[0;34m.\u001b[0m\u001b[0mderived\u001b[0m \u001b[0;32mand\u001b[0m \u001b[0;32mnot\u001b[0m \u001b[0malways_writable\u001b[0m\u001b[0;34m:\u001b[0m\u001b[0;34m\u001b[0m\u001b[0;34m\u001b[0m\u001b[0m\n\u001b[1;32m   1267\u001b[0m             \u001b[0mx\u001b[0m \u001b[0;34m=\u001b[0m \u001b[0mx\u001b[0m\u001b[0;34m.\u001b[0m\u001b[0mview\u001b[0m\u001b[0;34m(\u001b[0m\u001b[0;34m)\u001b[0m\u001b[0;34m\u001b[0m\u001b[0;34m\u001b[0m\u001b[0m\n",
      "\u001b[0;31mKeyError\u001b[0m: 'len'"
     ]
    }
   ],
   "source": [
    "f['len']"
   ]
  },
  {
   "cell_type": "code",
   "execution_count": 2,
   "metadata": {},
   "outputs": [
    {
     "ename": "NameError",
     "evalue": "name 'pynbody' is not defined",
     "output_type": "error",
     "traceback": [
      "\u001b[0;31m------------------------------------------------------------\u001b[0m",
      "\u001b[0;31mNameError\u001b[0m                  Traceback (most recent call last)",
      "\u001b[0;32m<ipython-input-2-deb3ae79b7d8>\u001b[0m in \u001b[0;36m<module>\u001b[0;34m\u001b[0m\n\u001b[0;32m----> 1\u001b[0;31m \u001b[0mu\u001b[0m \u001b[0;34m=\u001b[0m \u001b[0mpynbody\u001b[0m\u001b[0;34m.\u001b[0m\u001b[0mplot\u001b[0m\u001b[0;34m.\u001b[0m\u001b[0mimage\u001b[0m\u001b[0;34m(\u001b[0m\u001b[0mf\u001b[0m\u001b[0;34m.\u001b[0m\u001b[0mg\u001b[0m\u001b[0;34m,\u001b[0m \u001b[0mwidth\u001b[0m\u001b[0;34m=\u001b[0m\u001b[0;36m100\u001b[0m\u001b[0;34m,\u001b[0m \u001b[0mcmap\u001b[0m\u001b[0;34m=\u001b[0m\u001b[0;34m'Blues'\u001b[0m\u001b[0;34m)\u001b[0m\u001b[0;34m\u001b[0m\u001b[0;34m\u001b[0m\u001b[0m\n\u001b[0m",
      "\u001b[0;31mNameError\u001b[0m: name 'pynbody' is not defined"
     ]
    }
   ],
   "source": [
    "u = pynbody.plot.image(f.g, width=100, cmap='Blues')"
   ]
  },
  {
   "cell_type": "code",
   "execution_count": 4,
   "metadata": {},
   "outputs": [
    {
     "ename": "NameError",
     "evalue": "name 'f' is not defined",
     "output_type": "error",
     "traceback": [
      "\u001b[0;31m------------------------------------------------------------\u001b[0m",
      "\u001b[0;31mNameError\u001b[0m                  Traceback (most recent call last)",
      "\u001b[0;32m<ipython-input-4-343cf6dc7cff>\u001b[0m in \u001b[0;36m<module>\u001b[0;34m\u001b[0m\n\u001b[0;32m----> 1\u001b[0;31m \u001b[0mf\u001b[0m\u001b[0;34m.\u001b[0m\u001b[0mphysical_units\u001b[0m\u001b[0;34m(\u001b[0m\u001b[0;34m)\u001b[0m\u001b[0;34m\u001b[0m\u001b[0;34m\u001b[0m\u001b[0m\n\u001b[0m",
      "\u001b[0;31mNameError\u001b[0m: name 'f' is not defined"
     ]
    }
   ],
   "source": [
    "f.physical_units()"
   ]
  },
  {
   "cell_type": "code",
   "execution_count": 6,
   "metadata": {},
   "outputs": [
    {
     "ename": "SyntaxError",
     "evalue": "invalid syntax (<ipython-input-6-9ba2b4f67f59>, line 1)",
     "output_type": "error",
     "traceback": [
      "\u001b[0;36m  File \u001b[0;32m\"<ipython-input-6-9ba2b4f67f59>\"\u001b[0;36m, line \u001b[0;32m1\u001b[0m\n\u001b[0;31m    f = >>> pynbody.load('cube300-b.red.000070')\u001b[0m\n\u001b[0m         ^\u001b[0m\n\u001b[0;31mSyntaxError\u001b[0m\u001b[0;31m:\u001b[0m invalid syntax\n"
     ]
    }
   ],
   "source": [
    "f = >>> pynbody.load('cube300-b.red.000070')"
   ]
  },
  {
   "cell_type": "code",
   "execution_count": 7,
   "metadata": {},
   "outputs": [
    {
     "ename": "NameError",
     "evalue": "name 'pynbody' is not defined",
     "output_type": "error",
     "traceback": [
      "\u001b[0;31m------------------------------------------------------------\u001b[0m",
      "\u001b[0;31mNameError\u001b[0m                  Traceback (most recent call last)",
      "\u001b[0;32m<ipython-input-7-1a763cfa694b>\u001b[0m in \u001b[0;36m<module>\u001b[0;34m\u001b[0m\n\u001b[0;32m----> 1\u001b[0;31m \u001b[0mf\u001b[0m \u001b[0;34m=\u001b[0m \u001b[0mpynbody\u001b[0m\u001b[0;34m.\u001b[0m\u001b[0mload\u001b[0m\u001b[0;34m(\u001b[0m\u001b[0;34m'cube300-b.red.000070'\u001b[0m\u001b[0;34m)\u001b[0m\u001b[0;34m\u001b[0m\u001b[0;34m\u001b[0m\u001b[0m\n\u001b[0m\u001b[1;32m      2\u001b[0m \u001b[0mf\u001b[0m\u001b[0;34m[\u001b[0m\u001b[0;34m'pos'\u001b[0m\u001b[0;34m]\u001b[0m\u001b[0;34m\u001b[0m\u001b[0;34m\u001b[0m\u001b[0m\n",
      "\u001b[0;31mNameError\u001b[0m: name 'pynbody' is not defined"
     ]
    }
   ],
   "source": [
    ">>> f = pynbody.load('cube300-b.red.000070')\n",
    ">>> f['pos']"
   ]
  },
  {
   "cell_type": "code",
   "execution_count": 8,
   "metadata": {},
   "outputs": [
    {
     "name": "stderr",
     "output_type": "stream",
     "text": [
      "/anaconda3/lib/python3.7/site-packages/pynbody/snapshot/tipsy.py:130: RuntimeWarning: No readable param file in the run directory or parent directory: using defaults.\n",
      "  \"No readable param file in the run directory or parent directory: using defaults.\", RuntimeWarning)\n"
     ]
    }
   ],
   "source": [
    "import pynbody\n",
    "import numpy as np\n",
    "g = pynbody.load('cube300-b.red.000070')"
   ]
  },
  {
   "cell_type": "code",
   "execution_count": null,
   "metadata": {},
   "outputs": [],
   "source": []
  },
  {
   "cell_type": "code",
   "execution_count": 9,
   "metadata": {},
   "outputs": [
    {
     "data": {
      "text/plain": [
       "SimArray([[-0.48903096, -0.49525842,  0.49157596],\n",
       "          [-0.4625141 , -0.49718449,  0.49106818],\n",
       "          [-0.43450087, -0.49541503,  0.49557197],\n",
       "          ...,\n",
       "          [ 0.43614966,  0.47714052,  0.46325353],\n",
       "          [ 0.46442297,  0.48033723,  0.46499559],\n",
       "          [ 0.48745769,  0.48151788,  0.46338731]], 'kpc')"
      ]
     },
     "execution_count": 9,
     "metadata": {},
     "output_type": "execute_result"
    }
   ],
   "source": [
    ">>> f = pynbody.load('cube300-b.red.000070')\n",
    ">>> f['pos']"
   ]
  },
  {
   "cell_type": "code",
   "execution_count": 10,
   "metadata": {},
   "outputs": [
    {
     "data": {
      "text/plain": [
       "110592"
      ]
     },
     "execution_count": 10,
     "metadata": {},
     "output_type": "execute_result"
    }
   ],
   "source": [
    "len(f)"
   ]
  },
  {
   "cell_type": "code",
   "execution_count": 11,
   "metadata": {},
   "outputs": [
    {
     "data": {
      "text/plain": [
       "[<Family dm>]"
      ]
     },
     "execution_count": 11,
     "metadata": {},
     "output_type": "execute_result"
    }
   ],
   "source": [
    "f.families()"
   ]
  },
  {
   "cell_type": "code",
   "execution_count": 12,
   "metadata": {},
   "outputs": [
    {
     "data": {
      "text/plain": [
       "0"
      ]
     },
     "execution_count": 12,
     "metadata": {},
     "output_type": "execute_result"
    }
   ],
   "source": [
    "len(f.g)"
   ]
  },
  {
   "cell_type": "code",
   "execution_count": 13,
   "metadata": {},
   "outputs": [
    {
     "data": {
      "text/plain": [
       "0"
      ]
     },
     "execution_count": 13,
     "metadata": {},
     "output_type": "execute_result"
    }
   ],
   "source": [
    "len(f.s)"
   ]
  },
  {
   "cell_type": "code",
   "execution_count": 14,
   "metadata": {},
   "outputs": [
    {
     "data": {
      "text/plain": [
       "{'time': Unit(\"2.41e-06 kpc**3/2 Msol**-1/2 G**-1/2\")}"
      ]
     },
     "execution_count": 14,
     "metadata": {},
     "output_type": "execute_result"
    }
   ],
   "source": [
    "f.properties"
   ]
  },
  {
   "cell_type": "code",
   "execution_count": 15,
   "metadata": {},
   "outputs": [
    {
     "data": {
      "text/plain": [
       "['pos', 'x', 'y', 'z', 'vel', 'vx', 'vy', 'vz', 'mass', 'eps', 'phi']"
      ]
     },
     "execution_count": 15,
     "metadata": {},
     "output_type": "execute_result"
    }
   ],
   "source": [
    "f.keys()"
   ]
  },
  {
   "cell_type": "code",
   "execution_count": null,
   "metadata": {},
   "outputs": [],
   "source": []
  }
 ],
 "metadata": {
  "kernelspec": {
   "display_name": "Python 3",
   "language": "python",
   "name": "python3"
  },
  "language_info": {
   "codemirror_mode": {
    "name": "ipython",
    "version": 3
   },
   "file_extension": ".py",
   "mimetype": "text/x-python",
   "name": "python",
   "nbconvert_exporter": "python",
   "pygments_lexer": "ipython3",
   "version": "3.7.3"
  }
 },
 "nbformat": 4,
 "nbformat_minor": 2
}
